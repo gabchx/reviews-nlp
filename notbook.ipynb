{
  "cells": [
    {
      "cell_type": "markdown",
      "id": "9KveROPiT_X3",
      "metadata": {
        "id": "9KveROPiT_X3"
      },
      "source": [
        "# Hotels and Restaurants Reviews Analysis and Generation\n",
        "\n",
        "## Table of Contents\n",
        "1. [Import Libraries](#import-libraries)\n",
        "2. [Import Dataset](#import-dataset)\n",
        "3. [Data Analysis and Cleaning](#data-analysis-and-cleaning)\n",
        "4. [Model Training and Implementation](#model-training-and-implementation)\n",
        "    - [Grading Model](#grading-model)\n",
        "    - [Review Generation Model](#review-generation-model)\n",
        "5. [Building the Goal Functions](#building-the-goal-functions)\n",
        "    - [Function to Grade a Review](#function-to-grade-a-review)\n",
        "    - [Function to Generate a Review](#function-to-generate-a-review)\n",
        "6. [Optional: Building a GUI with Flask and Ngrok](#optional-building-a-gui-with-flask-and-ngrok)\n",
        "\n",
        "---\n"
      ]
    },
    {
      "cell_type": "code",
      "execution_count": 1,
      "id": "45QpVKhOUHmr",
      "metadata": {
        "colab": {
          "base_uri": "https://localhost:8080/"
        },
        "id": "45QpVKhOUHmr",
        "outputId": "f945946d-e2c3-4428-c7a8-8ab972a499be"
      },
      "outputs": [
        {
          "name": "stdout",
          "output_type": "stream",
          "text": [
            "Requirement already satisfied: transformers in /Users/Gabriel/Library/Caches/pypoetry/virtualenvs/reviews-nlp-TO1qKy9D-py3.12/lib/python3.12/site-packages (4.45.1)\n",
            "Requirement already satisfied: filelock in /Users/Gabriel/Library/Caches/pypoetry/virtualenvs/reviews-nlp-TO1qKy9D-py3.12/lib/python3.12/site-packages (from transformers) (3.16.1)\n",
            "Requirement already satisfied: huggingface-hub<1.0,>=0.23.2 in /Users/Gabriel/Library/Caches/pypoetry/virtualenvs/reviews-nlp-TO1qKy9D-py3.12/lib/python3.12/site-packages (from transformers) (0.25.1)\n",
            "Requirement already satisfied: numpy>=1.17 in /Users/Gabriel/Library/Caches/pypoetry/virtualenvs/reviews-nlp-TO1qKy9D-py3.12/lib/python3.12/site-packages (from transformers) (2.1.2)\n",
            "Requirement already satisfied: packaging>=20.0 in /Users/Gabriel/Library/Caches/pypoetry/virtualenvs/reviews-nlp-TO1qKy9D-py3.12/lib/python3.12/site-packages (from transformers) (24.1)\n",
            "Requirement already satisfied: pyyaml>=5.1 in /Users/Gabriel/Library/Caches/pypoetry/virtualenvs/reviews-nlp-TO1qKy9D-py3.12/lib/python3.12/site-packages (from transformers) (6.0.2)\n",
            "Requirement already satisfied: regex!=2019.12.17 in /Users/Gabriel/Library/Caches/pypoetry/virtualenvs/reviews-nlp-TO1qKy9D-py3.12/lib/python3.12/site-packages (from transformers) (2024.9.11)\n",
            "Requirement already satisfied: requests in /Users/Gabriel/Library/Caches/pypoetry/virtualenvs/reviews-nlp-TO1qKy9D-py3.12/lib/python3.12/site-packages (from transformers) (2.32.3)\n",
            "Requirement already satisfied: safetensors>=0.4.1 in /Users/Gabriel/Library/Caches/pypoetry/virtualenvs/reviews-nlp-TO1qKy9D-py3.12/lib/python3.12/site-packages (from transformers) (0.4.5)\n",
            "Requirement already satisfied: tokenizers<0.21,>=0.20 in /Users/Gabriel/Library/Caches/pypoetry/virtualenvs/reviews-nlp-TO1qKy9D-py3.12/lib/python3.12/site-packages (from transformers) (0.20.0)\n",
            "Requirement already satisfied: tqdm>=4.27 in /Users/Gabriel/Library/Caches/pypoetry/virtualenvs/reviews-nlp-TO1qKy9D-py3.12/lib/python3.12/site-packages (from transformers) (4.66.5)\n",
            "Requirement already satisfied: fsspec>=2023.5.0 in /Users/Gabriel/Library/Caches/pypoetry/virtualenvs/reviews-nlp-TO1qKy9D-py3.12/lib/python3.12/site-packages (from huggingface-hub<1.0,>=0.23.2->transformers) (2024.9.0)\n",
            "Requirement already satisfied: typing-extensions>=3.7.4.3 in /Users/Gabriel/Library/Caches/pypoetry/virtualenvs/reviews-nlp-TO1qKy9D-py3.12/lib/python3.12/site-packages (from huggingface-hub<1.0,>=0.23.2->transformers) (4.12.2)\n",
            "Requirement already satisfied: charset-normalizer<4,>=2 in /Users/Gabriel/Library/Caches/pypoetry/virtualenvs/reviews-nlp-TO1qKy9D-py3.12/lib/python3.12/site-packages (from requests->transformers) (3.3.2)\n",
            "Requirement already satisfied: idna<4,>=2.5 in /Users/Gabriel/Library/Caches/pypoetry/virtualenvs/reviews-nlp-TO1qKy9D-py3.12/lib/python3.12/site-packages (from requests->transformers) (3.10)\n",
            "Requirement already satisfied: urllib3<3,>=1.21.1 in /Users/Gabriel/Library/Caches/pypoetry/virtualenvs/reviews-nlp-TO1qKy9D-py3.12/lib/python3.12/site-packages (from requests->transformers) (2.2.3)\n",
            "Requirement already satisfied: certifi>=2017.4.17 in /Users/Gabriel/Library/Caches/pypoetry/virtualenvs/reviews-nlp-TO1qKy9D-py3.12/lib/python3.12/site-packages (from requests->transformers) (2024.8.30)\n",
            "\n",
            "\u001b[1m[\u001b[0m\u001b[34;49mnotice\u001b[0m\u001b[1;39;49m]\u001b[0m\u001b[39;49m A new release of pip is available: \u001b[0m\u001b[31;49m24.0\u001b[0m\u001b[39;49m -> \u001b[0m\u001b[32;49m24.2\u001b[0m\n",
            "\u001b[1m[\u001b[0m\u001b[34;49mnotice\u001b[0m\u001b[1;39;49m]\u001b[0m\u001b[39;49m To update, run: \u001b[0m\u001b[32;49mpip install --upgrade pip\u001b[0m\n",
            "Requirement already satisfied: flask in /Users/Gabriel/Library/Caches/pypoetry/virtualenvs/reviews-nlp-TO1qKy9D-py3.12/lib/python3.12/site-packages (3.0.3)\n",
            "Requirement already satisfied: Werkzeug>=3.0.0 in /Users/Gabriel/Library/Caches/pypoetry/virtualenvs/reviews-nlp-TO1qKy9D-py3.12/lib/python3.12/site-packages (from flask) (3.0.4)\n",
            "Requirement already satisfied: Jinja2>=3.1.2 in /Users/Gabriel/Library/Caches/pypoetry/virtualenvs/reviews-nlp-TO1qKy9D-py3.12/lib/python3.12/site-packages (from flask) (3.1.4)\n",
            "Requirement already satisfied: itsdangerous>=2.1.2 in /Users/Gabriel/Library/Caches/pypoetry/virtualenvs/reviews-nlp-TO1qKy9D-py3.12/lib/python3.12/site-packages (from flask) (2.2.0)\n",
            "Requirement already satisfied: click>=8.1.3 in /Users/Gabriel/Library/Caches/pypoetry/virtualenvs/reviews-nlp-TO1qKy9D-py3.12/lib/python3.12/site-packages (from flask) (8.1.7)\n",
            "Requirement already satisfied: blinker>=1.6.2 in /Users/Gabriel/Library/Caches/pypoetry/virtualenvs/reviews-nlp-TO1qKy9D-py3.12/lib/python3.12/site-packages (from flask) (1.8.2)\n",
            "Requirement already satisfied: MarkupSafe>=2.0 in /Users/Gabriel/Library/Caches/pypoetry/virtualenvs/reviews-nlp-TO1qKy9D-py3.12/lib/python3.12/site-packages (from Jinja2>=3.1.2->flask) (2.1.5)\n",
            "\n",
            "\u001b[1m[\u001b[0m\u001b[34;49mnotice\u001b[0m\u001b[1;39;49m]\u001b[0m\u001b[39;49m A new release of pip is available: \u001b[0m\u001b[31;49m24.0\u001b[0m\u001b[39;49m -> \u001b[0m\u001b[32;49m24.2\u001b[0m\n",
            "\u001b[1m[\u001b[0m\u001b[34;49mnotice\u001b[0m\u001b[1;39;49m]\u001b[0m\u001b[39;49m To update, run: \u001b[0m\u001b[32;49mpip install --upgrade pip\u001b[0m\n",
            "Requirement already satisfied: flask_ngrok in /Users/Gabriel/Library/Caches/pypoetry/virtualenvs/reviews-nlp-TO1qKy9D-py3.12/lib/python3.12/site-packages (0.0.25)\n",
            "Requirement already satisfied: Flask>=0.8 in /Users/Gabriel/Library/Caches/pypoetry/virtualenvs/reviews-nlp-TO1qKy9D-py3.12/lib/python3.12/site-packages (from flask_ngrok) (3.0.3)\n",
            "Requirement already satisfied: requests in /Users/Gabriel/Library/Caches/pypoetry/virtualenvs/reviews-nlp-TO1qKy9D-py3.12/lib/python3.12/site-packages (from flask_ngrok) (2.32.3)\n",
            "Requirement already satisfied: Werkzeug>=3.0.0 in /Users/Gabriel/Library/Caches/pypoetry/virtualenvs/reviews-nlp-TO1qKy9D-py3.12/lib/python3.12/site-packages (from Flask>=0.8->flask_ngrok) (3.0.4)\n",
            "Requirement already satisfied: Jinja2>=3.1.2 in /Users/Gabriel/Library/Caches/pypoetry/virtualenvs/reviews-nlp-TO1qKy9D-py3.12/lib/python3.12/site-packages (from Flask>=0.8->flask_ngrok) (3.1.4)\n",
            "Requirement already satisfied: itsdangerous>=2.1.2 in /Users/Gabriel/Library/Caches/pypoetry/virtualenvs/reviews-nlp-TO1qKy9D-py3.12/lib/python3.12/site-packages (from Flask>=0.8->flask_ngrok) (2.2.0)\n",
            "Requirement already satisfied: click>=8.1.3 in /Users/Gabriel/Library/Caches/pypoetry/virtualenvs/reviews-nlp-TO1qKy9D-py3.12/lib/python3.12/site-packages (from Flask>=0.8->flask_ngrok) (8.1.7)\n",
            "Requirement already satisfied: blinker>=1.6.2 in /Users/Gabriel/Library/Caches/pypoetry/virtualenvs/reviews-nlp-TO1qKy9D-py3.12/lib/python3.12/site-packages (from Flask>=0.8->flask_ngrok) (1.8.2)\n",
            "Requirement already satisfied: charset-normalizer<4,>=2 in /Users/Gabriel/Library/Caches/pypoetry/virtualenvs/reviews-nlp-TO1qKy9D-py3.12/lib/python3.12/site-packages (from requests->flask_ngrok) (3.3.2)\n",
            "Requirement already satisfied: idna<4,>=2.5 in /Users/Gabriel/Library/Caches/pypoetry/virtualenvs/reviews-nlp-TO1qKy9D-py3.12/lib/python3.12/site-packages (from requests->flask_ngrok) (3.10)\n",
            "Requirement already satisfied: urllib3<3,>=1.21.1 in /Users/Gabriel/Library/Caches/pypoetry/virtualenvs/reviews-nlp-TO1qKy9D-py3.12/lib/python3.12/site-packages (from requests->flask_ngrok) (2.2.3)\n",
            "Requirement already satisfied: certifi>=2017.4.17 in /Users/Gabriel/Library/Caches/pypoetry/virtualenvs/reviews-nlp-TO1qKy9D-py3.12/lib/python3.12/site-packages (from requests->flask_ngrok) (2024.8.30)\n",
            "Requirement already satisfied: MarkupSafe>=2.0 in /Users/Gabriel/Library/Caches/pypoetry/virtualenvs/reviews-nlp-TO1qKy9D-py3.12/lib/python3.12/site-packages (from Jinja2>=3.1.2->Flask>=0.8->flask_ngrok) (2.1.5)\n",
            "\n",
            "\u001b[1m[\u001b[0m\u001b[34;49mnotice\u001b[0m\u001b[1;39;49m]\u001b[0m\u001b[39;49m A new release of pip is available: \u001b[0m\u001b[31;49m24.0\u001b[0m\u001b[39;49m -> \u001b[0m\u001b[32;49m24.2\u001b[0m\n",
            "\u001b[1m[\u001b[0m\u001b[34;49mnotice\u001b[0m\u001b[1;39;49m]\u001b[0m\u001b[39;49m To update, run: \u001b[0m\u001b[32;49mpip install --upgrade pip\u001b[0m\n",
            "Requirement already satisfied: pyngrok in /Users/Gabriel/Library/Caches/pypoetry/virtualenvs/reviews-nlp-TO1qKy9D-py3.12/lib/python3.12/site-packages (7.2.0)\n",
            "Requirement already satisfied: PyYAML>=5.1 in /Users/Gabriel/Library/Caches/pypoetry/virtualenvs/reviews-nlp-TO1qKy9D-py3.12/lib/python3.12/site-packages (from pyngrok) (6.0.2)\n",
            "\n",
            "\u001b[1m[\u001b[0m\u001b[34;49mnotice\u001b[0m\u001b[1;39;49m]\u001b[0m\u001b[39;49m A new release of pip is available: \u001b[0m\u001b[31;49m24.0\u001b[0m\u001b[39;49m -> \u001b[0m\u001b[32;49m24.2\u001b[0m\n",
            "\u001b[1m[\u001b[0m\u001b[34;49mnotice\u001b[0m\u001b[1;39;49m]\u001b[0m\u001b[39;49m To update, run: \u001b[0m\u001b[32;49mpip install --upgrade pip\u001b[0m\n",
            "Requirement already satisfied: pandas in /Users/Gabriel/Library/Caches/pypoetry/virtualenvs/reviews-nlp-TO1qKy9D-py3.12/lib/python3.12/site-packages (2.2.3)\n",
            "Requirement already satisfied: numpy>=1.26.0 in /Users/Gabriel/Library/Caches/pypoetry/virtualenvs/reviews-nlp-TO1qKy9D-py3.12/lib/python3.12/site-packages (from pandas) (2.1.2)\n",
            "Requirement already satisfied: python-dateutil>=2.8.2 in /Users/Gabriel/Library/Caches/pypoetry/virtualenvs/reviews-nlp-TO1qKy9D-py3.12/lib/python3.12/site-packages (from pandas) (2.9.0.post0)\n",
            "Requirement already satisfied: pytz>=2020.1 in /Users/Gabriel/Library/Caches/pypoetry/virtualenvs/reviews-nlp-TO1qKy9D-py3.12/lib/python3.12/site-packages (from pandas) (2024.2)\n",
            "Requirement already satisfied: tzdata>=2022.7 in /Users/Gabriel/Library/Caches/pypoetry/virtualenvs/reviews-nlp-TO1qKy9D-py3.12/lib/python3.12/site-packages (from pandas) (2024.2)\n",
            "Requirement already satisfied: six>=1.5 in /Users/Gabriel/Library/Caches/pypoetry/virtualenvs/reviews-nlp-TO1qKy9D-py3.12/lib/python3.12/site-packages (from python-dateutil>=2.8.2->pandas) (1.16.0)\n",
            "\n",
            "\u001b[1m[\u001b[0m\u001b[34;49mnotice\u001b[0m\u001b[1;39;49m]\u001b[0m\u001b[39;49m A new release of pip is available: \u001b[0m\u001b[31;49m24.0\u001b[0m\u001b[39;49m -> \u001b[0m\u001b[32;49m24.2\u001b[0m\n",
            "\u001b[1m[\u001b[0m\u001b[34;49mnotice\u001b[0m\u001b[1;39;49m]\u001b[0m\u001b[39;49m To update, run: \u001b[0m\u001b[32;49mpip install --upgrade pip\u001b[0m\n",
            "Requirement already satisfied: numpy in /Users/Gabriel/Library/Caches/pypoetry/virtualenvs/reviews-nlp-TO1qKy9D-py3.12/lib/python3.12/site-packages (2.1.2)\n",
            "\n",
            "\u001b[1m[\u001b[0m\u001b[34;49mnotice\u001b[0m\u001b[1;39;49m]\u001b[0m\u001b[39;49m A new release of pip is available: \u001b[0m\u001b[31;49m24.0\u001b[0m\u001b[39;49m -> \u001b[0m\u001b[32;49m24.2\u001b[0m\n",
            "\u001b[1m[\u001b[0m\u001b[34;49mnotice\u001b[0m\u001b[1;39;49m]\u001b[0m\u001b[39;49m To update, run: \u001b[0m\u001b[32;49mpip install --upgrade pip\u001b[0m\n",
            "Requirement already satisfied: matplotlib in /Users/Gabriel/Library/Caches/pypoetry/virtualenvs/reviews-nlp-TO1qKy9D-py3.12/lib/python3.12/site-packages (3.9.2)\n",
            "Requirement already satisfied: contourpy>=1.0.1 in /Users/Gabriel/Library/Caches/pypoetry/virtualenvs/reviews-nlp-TO1qKy9D-py3.12/lib/python3.12/site-packages (from matplotlib) (1.3.0)\n",
            "Requirement already satisfied: cycler>=0.10 in /Users/Gabriel/Library/Caches/pypoetry/virtualenvs/reviews-nlp-TO1qKy9D-py3.12/lib/python3.12/site-packages (from matplotlib) (0.12.1)\n",
            "Requirement already satisfied: fonttools>=4.22.0 in /Users/Gabriel/Library/Caches/pypoetry/virtualenvs/reviews-nlp-TO1qKy9D-py3.12/lib/python3.12/site-packages (from matplotlib) (4.54.1)\n",
            "Requirement already satisfied: kiwisolver>=1.3.1 in /Users/Gabriel/Library/Caches/pypoetry/virtualenvs/reviews-nlp-TO1qKy9D-py3.12/lib/python3.12/site-packages (from matplotlib) (1.4.7)\n",
            "Requirement already satisfied: numpy>=1.23 in /Users/Gabriel/Library/Caches/pypoetry/virtualenvs/reviews-nlp-TO1qKy9D-py3.12/lib/python3.12/site-packages (from matplotlib) (2.1.2)\n",
            "Requirement already satisfied: packaging>=20.0 in /Users/Gabriel/Library/Caches/pypoetry/virtualenvs/reviews-nlp-TO1qKy9D-py3.12/lib/python3.12/site-packages (from matplotlib) (24.1)\n",
            "Requirement already satisfied: pillow>=8 in /Users/Gabriel/Library/Caches/pypoetry/virtualenvs/reviews-nlp-TO1qKy9D-py3.12/lib/python3.12/site-packages (from matplotlib) (10.4.0)\n",
            "Requirement already satisfied: pyparsing>=2.3.1 in /Users/Gabriel/Library/Caches/pypoetry/virtualenvs/reviews-nlp-TO1qKy9D-py3.12/lib/python3.12/site-packages (from matplotlib) (3.1.4)\n",
            "Requirement already satisfied: python-dateutil>=2.7 in /Users/Gabriel/Library/Caches/pypoetry/virtualenvs/reviews-nlp-TO1qKy9D-py3.12/lib/python3.12/site-packages (from matplotlib) (2.9.0.post0)\n",
            "Requirement already satisfied: six>=1.5 in /Users/Gabriel/Library/Caches/pypoetry/virtualenvs/reviews-nlp-TO1qKy9D-py3.12/lib/python3.12/site-packages (from python-dateutil>=2.7->matplotlib) (1.16.0)\n",
            "\n",
            "\u001b[1m[\u001b[0m\u001b[34;49mnotice\u001b[0m\u001b[1;39;49m]\u001b[0m\u001b[39;49m A new release of pip is available: \u001b[0m\u001b[31;49m24.0\u001b[0m\u001b[39;49m -> \u001b[0m\u001b[32;49m24.2\u001b[0m\n",
            "\u001b[1m[\u001b[0m\u001b[34;49mnotice\u001b[0m\u001b[1;39;49m]\u001b[0m\u001b[39;49m To update, run: \u001b[0m\u001b[32;49mpip install --upgrade pip\u001b[0m\n",
            "Requirement already satisfied: seaborn in /Users/Gabriel/Library/Caches/pypoetry/virtualenvs/reviews-nlp-TO1qKy9D-py3.12/lib/python3.12/site-packages (0.13.2)\n",
            "Requirement already satisfied: numpy!=1.24.0,>=1.20 in /Users/Gabriel/Library/Caches/pypoetry/virtualenvs/reviews-nlp-TO1qKy9D-py3.12/lib/python3.12/site-packages (from seaborn) (2.1.2)\n",
            "Requirement already satisfied: pandas>=1.2 in /Users/Gabriel/Library/Caches/pypoetry/virtualenvs/reviews-nlp-TO1qKy9D-py3.12/lib/python3.12/site-packages (from seaborn) (2.2.3)\n",
            "Requirement already satisfied: matplotlib!=3.6.1,>=3.4 in /Users/Gabriel/Library/Caches/pypoetry/virtualenvs/reviews-nlp-TO1qKy9D-py3.12/lib/python3.12/site-packages (from seaborn) (3.9.2)\n",
            "Requirement already satisfied: contourpy>=1.0.1 in /Users/Gabriel/Library/Caches/pypoetry/virtualenvs/reviews-nlp-TO1qKy9D-py3.12/lib/python3.12/site-packages (from matplotlib!=3.6.1,>=3.4->seaborn) (1.3.0)\n",
            "Requirement already satisfied: cycler>=0.10 in /Users/Gabriel/Library/Caches/pypoetry/virtualenvs/reviews-nlp-TO1qKy9D-py3.12/lib/python3.12/site-packages (from matplotlib!=3.6.1,>=3.4->seaborn) (0.12.1)\n",
            "Requirement already satisfied: fonttools>=4.22.0 in /Users/Gabriel/Library/Caches/pypoetry/virtualenvs/reviews-nlp-TO1qKy9D-py3.12/lib/python3.12/site-packages (from matplotlib!=3.6.1,>=3.4->seaborn) (4.54.1)\n",
            "Requirement already satisfied: kiwisolver>=1.3.1 in /Users/Gabriel/Library/Caches/pypoetry/virtualenvs/reviews-nlp-TO1qKy9D-py3.12/lib/python3.12/site-packages (from matplotlib!=3.6.1,>=3.4->seaborn) (1.4.7)\n",
            "Requirement already satisfied: packaging>=20.0 in /Users/Gabriel/Library/Caches/pypoetry/virtualenvs/reviews-nlp-TO1qKy9D-py3.12/lib/python3.12/site-packages (from matplotlib!=3.6.1,>=3.4->seaborn) (24.1)\n",
            "Requirement already satisfied: pillow>=8 in /Users/Gabriel/Library/Caches/pypoetry/virtualenvs/reviews-nlp-TO1qKy9D-py3.12/lib/python3.12/site-packages (from matplotlib!=3.6.1,>=3.4->seaborn) (10.4.0)\n",
            "Requirement already satisfied: pyparsing>=2.3.1 in /Users/Gabriel/Library/Caches/pypoetry/virtualenvs/reviews-nlp-TO1qKy9D-py3.12/lib/python3.12/site-packages (from matplotlib!=3.6.1,>=3.4->seaborn) (3.1.4)\n",
            "Requirement already satisfied: python-dateutil>=2.7 in /Users/Gabriel/Library/Caches/pypoetry/virtualenvs/reviews-nlp-TO1qKy9D-py3.12/lib/python3.12/site-packages (from matplotlib!=3.6.1,>=3.4->seaborn) (2.9.0.post0)\n",
            "Requirement already satisfied: pytz>=2020.1 in /Users/Gabriel/Library/Caches/pypoetry/virtualenvs/reviews-nlp-TO1qKy9D-py3.12/lib/python3.12/site-packages (from pandas>=1.2->seaborn) (2024.2)\n",
            "Requirement already satisfied: tzdata>=2022.7 in /Users/Gabriel/Library/Caches/pypoetry/virtualenvs/reviews-nlp-TO1qKy9D-py3.12/lib/python3.12/site-packages (from pandas>=1.2->seaborn) (2024.2)\n",
            "Requirement already satisfied: six>=1.5 in /Users/Gabriel/Library/Caches/pypoetry/virtualenvs/reviews-nlp-TO1qKy9D-py3.12/lib/python3.12/site-packages (from python-dateutil>=2.7->matplotlib!=3.6.1,>=3.4->seaborn) (1.16.0)\n",
            "\n",
            "\u001b[1m[\u001b[0m\u001b[34;49mnotice\u001b[0m\u001b[1;39;49m]\u001b[0m\u001b[39;49m A new release of pip is available: \u001b[0m\u001b[31;49m24.0\u001b[0m\u001b[39;49m -> \u001b[0m\u001b[32;49m24.2\u001b[0m\n",
            "\u001b[1m[\u001b[0m\u001b[34;49mnotice\u001b[0m\u001b[1;39;49m]\u001b[0m\u001b[39;49m To update, run: \u001b[0m\u001b[32;49mpip install --upgrade pip\u001b[0m\n",
            "Requirement already satisfied: nltk in /Users/Gabriel/Library/Caches/pypoetry/virtualenvs/reviews-nlp-TO1qKy9D-py3.12/lib/python3.12/site-packages (3.9.1)\n",
            "Requirement already satisfied: click in /Users/Gabriel/Library/Caches/pypoetry/virtualenvs/reviews-nlp-TO1qKy9D-py3.12/lib/python3.12/site-packages (from nltk) (8.1.7)\n",
            "Requirement already satisfied: joblib in /Users/Gabriel/Library/Caches/pypoetry/virtualenvs/reviews-nlp-TO1qKy9D-py3.12/lib/python3.12/site-packages (from nltk) (1.4.2)\n",
            "Requirement already satisfied: regex>=2021.8.3 in /Users/Gabriel/Library/Caches/pypoetry/virtualenvs/reviews-nlp-TO1qKy9D-py3.12/lib/python3.12/site-packages (from nltk) (2024.9.11)\n",
            "Requirement already satisfied: tqdm in /Users/Gabriel/Library/Caches/pypoetry/virtualenvs/reviews-nlp-TO1qKy9D-py3.12/lib/python3.12/site-packages (from nltk) (4.66.5)\n",
            "\n",
            "\u001b[1m[\u001b[0m\u001b[34;49mnotice\u001b[0m\u001b[1;39;49m]\u001b[0m\u001b[39;49m A new release of pip is available: \u001b[0m\u001b[31;49m24.0\u001b[0m\u001b[39;49m -> \u001b[0m\u001b[32;49m24.2\u001b[0m\n",
            "\u001b[1m[\u001b[0m\u001b[34;49mnotice\u001b[0m\u001b[1;39;49m]\u001b[0m\u001b[39;49m To update, run: \u001b[0m\u001b[32;49mpip install --upgrade pip\u001b[0m\n",
            "\u001b[31mERROR: Could not find a version that satisfies the requirement re (from versions: none)\u001b[0m\u001b[31m\n",
            "\u001b[0m\u001b[31mERROR: No matching distribution found for re\u001b[0m\u001b[31m\n",
            "\u001b[0m\n",
            "\u001b[1m[\u001b[0m\u001b[34;49mnotice\u001b[0m\u001b[1;39;49m]\u001b[0m\u001b[39;49m A new release of pip is available: \u001b[0m\u001b[31;49m24.0\u001b[0m\u001b[39;49m -> \u001b[0m\u001b[32;49m24.2\u001b[0m\n",
            "\u001b[1m[\u001b[0m\u001b[34;49mnotice\u001b[0m\u001b[1;39;49m]\u001b[0m\u001b[39;49m To update, run: \u001b[0m\u001b[32;49mpip install --upgrade pip\u001b[0m\n",
            "\u001b[31mERROR: Could not find a version that satisfies the requirement string (from versions: none)\u001b[0m\u001b[31m\n",
            "\u001b[0m\u001b[31mERROR: No matching distribution found for string\u001b[0m\u001b[31m\n",
            "\u001b[0m\n",
            "\u001b[1m[\u001b[0m\u001b[34;49mnotice\u001b[0m\u001b[1;39;49m]\u001b[0m\u001b[39;49m A new release of pip is available: \u001b[0m\u001b[31;49m24.0\u001b[0m\u001b[39;49m -> \u001b[0m\u001b[32;49m24.2\u001b[0m\n",
            "\u001b[1m[\u001b[0m\u001b[34;49mnotice\u001b[0m\u001b[1;39;49m]\u001b[0m\u001b[39;49m To update, run: \u001b[0m\u001b[32;49mpip install --upgrade pip\u001b[0m\n",
            "\u001b[31mERROR: Could not find a version that satisfies the requirement collections (from versions: none)\u001b[0m\u001b[31m\n",
            "\u001b[0m\u001b[31mERROR: No matching distribution found for collections\u001b[0m\u001b[31m\n",
            "\u001b[0m\n",
            "\u001b[1m[\u001b[0m\u001b[34;49mnotice\u001b[0m\u001b[1;39;49m]\u001b[0m\u001b[39;49m A new release of pip is available: \u001b[0m\u001b[31;49m24.0\u001b[0m\u001b[39;49m -> \u001b[0m\u001b[32;49m24.2\u001b[0m\n",
            "\u001b[1m[\u001b[0m\u001b[34;49mnotice\u001b[0m\u001b[1;39;49m]\u001b[0m\u001b[39;49m To update, run: \u001b[0m\u001b[32;49mpip install --upgrade pip\u001b[0m\n",
            "Collecting sklearn\n",
            "  Using cached sklearn-0.0.post12.tar.gz (2.6 kB)\n",
            "  Installing build dependencies ... \u001b[?25ldone\n",
            "\u001b[?25h  Getting requirements to build wheel ... \u001b[?25lerror\n",
            "  \u001b[1;31merror\u001b[0m: \u001b[1msubprocess-exited-with-error\u001b[0m\n",
            "  \n",
            "  \u001b[31m×\u001b[0m \u001b[32mGetting requirements to build wheel\u001b[0m did not run successfully.\n",
            "  \u001b[31m│\u001b[0m exit code: \u001b[1;36m1\u001b[0m\n",
            "  \u001b[31m╰─>\u001b[0m \u001b[31m[15 lines of output]\u001b[0m\n",
            "  \u001b[31m   \u001b[0m The 'sklearn' PyPI package is deprecated, use 'scikit-learn'\n",
            "  \u001b[31m   \u001b[0m rather than 'sklearn' for pip commands.\n",
            "  \u001b[31m   \u001b[0m \n",
            "  \u001b[31m   \u001b[0m Here is how to fix this error in the main use cases:\n",
            "  \u001b[31m   \u001b[0m - use 'pip install scikit-learn' rather than 'pip install sklearn'\n",
            "  \u001b[31m   \u001b[0m - replace 'sklearn' by 'scikit-learn' in your pip requirements files\n",
            "  \u001b[31m   \u001b[0m   (requirements.txt, setup.py, setup.cfg, Pipfile, etc ...)\n",
            "  \u001b[31m   \u001b[0m - if the 'sklearn' package is used by one of your dependencies,\n",
            "  \u001b[31m   \u001b[0m   it would be great if you take some time to track which package uses\n",
            "  \u001b[31m   \u001b[0m   'sklearn' instead of 'scikit-learn' and report it to their issue tracker\n",
            "  \u001b[31m   \u001b[0m - as a last resort, set the environment variable\n",
            "  \u001b[31m   \u001b[0m   SKLEARN_ALLOW_DEPRECATED_SKLEARN_PACKAGE_INSTALL=True to avoid this error\n",
            "  \u001b[31m   \u001b[0m \n",
            "  \u001b[31m   \u001b[0m More information is available at\n",
            "  \u001b[31m   \u001b[0m https://github.com/scikit-learn/sklearn-pypi-package\n",
            "  \u001b[31m   \u001b[0m \u001b[31m[end of output]\u001b[0m\n",
            "  \n",
            "  \u001b[1;35mnote\u001b[0m: This error originates from a subprocess, and is likely not a problem with pip.\n",
            "\u001b[?25h\u001b[1;31merror\u001b[0m: \u001b[1msubprocess-exited-with-error\u001b[0m\n",
            "\n",
            "\u001b[31m×\u001b[0m \u001b[32mGetting requirements to build wheel\u001b[0m did not run successfully.\n",
            "\u001b[31m│\u001b[0m exit code: \u001b[1;36m1\u001b[0m\n",
            "\u001b[31m╰─>\u001b[0m See above for output.\n",
            "\n",
            "\u001b[1;35mnote\u001b[0m: This error originates from a subprocess, and is likely not a problem with pip.\n",
            "\n",
            "\u001b[1m[\u001b[0m\u001b[34;49mnotice\u001b[0m\u001b[1;39;49m]\u001b[0m\u001b[39;49m A new release of pip is available: \u001b[0m\u001b[31;49m24.0\u001b[0m\u001b[39;49m -> \u001b[0m\u001b[32;49m24.2\u001b[0m\n",
            "\u001b[1m[\u001b[0m\u001b[34;49mnotice\u001b[0m\u001b[1;39;49m]\u001b[0m\u001b[39;49m To update, run: \u001b[0m\u001b[32;49mpip install --upgrade pip\u001b[0m\n",
            "Requirement already satisfied: torch in /Users/Gabriel/Library/Caches/pypoetry/virtualenvs/reviews-nlp-TO1qKy9D-py3.12/lib/python3.12/site-packages (2.4.1)\n",
            "Requirement already satisfied: filelock in /Users/Gabriel/Library/Caches/pypoetry/virtualenvs/reviews-nlp-TO1qKy9D-py3.12/lib/python3.12/site-packages (from torch) (3.16.1)\n",
            "Requirement already satisfied: typing-extensions>=4.8.0 in /Users/Gabriel/Library/Caches/pypoetry/virtualenvs/reviews-nlp-TO1qKy9D-py3.12/lib/python3.12/site-packages (from torch) (4.12.2)\n",
            "Requirement already satisfied: sympy in /Users/Gabriel/Library/Caches/pypoetry/virtualenvs/reviews-nlp-TO1qKy9D-py3.12/lib/python3.12/site-packages (from torch) (1.13.3)\n",
            "Requirement already satisfied: networkx in /Users/Gabriel/Library/Caches/pypoetry/virtualenvs/reviews-nlp-TO1qKy9D-py3.12/lib/python3.12/site-packages (from torch) (3.3)\n",
            "Requirement already satisfied: jinja2 in /Users/Gabriel/Library/Caches/pypoetry/virtualenvs/reviews-nlp-TO1qKy9D-py3.12/lib/python3.12/site-packages (from torch) (3.1.4)\n",
            "Requirement already satisfied: fsspec in /Users/Gabriel/Library/Caches/pypoetry/virtualenvs/reviews-nlp-TO1qKy9D-py3.12/lib/python3.12/site-packages (from torch) (2024.9.0)\n",
            "Requirement already satisfied: setuptools in /Users/Gabriel/Library/Caches/pypoetry/virtualenvs/reviews-nlp-TO1qKy9D-py3.12/lib/python3.12/site-packages (from torch) (75.1.0)\n",
            "Requirement already satisfied: MarkupSafe>=2.0 in /Users/Gabriel/Library/Caches/pypoetry/virtualenvs/reviews-nlp-TO1qKy9D-py3.12/lib/python3.12/site-packages (from jinja2->torch) (2.1.5)\n",
            "Requirement already satisfied: mpmath<1.4,>=1.1.0 in /Users/Gabriel/Library/Caches/pypoetry/virtualenvs/reviews-nlp-TO1qKy9D-py3.12/lib/python3.12/site-packages (from sympy->torch) (1.3.0)\n",
            "\n",
            "\u001b[1m[\u001b[0m\u001b[34;49mnotice\u001b[0m\u001b[1;39;49m]\u001b[0m\u001b[39;49m A new release of pip is available: \u001b[0m\u001b[31;49m24.0\u001b[0m\u001b[39;49m -> \u001b[0m\u001b[32;49m24.2\u001b[0m\n",
            "\u001b[1m[\u001b[0m\u001b[34;49mnotice\u001b[0m\u001b[1;39;49m]\u001b[0m\u001b[39;49m To update, run: \u001b[0m\u001b[32;49mpip install --upgrade pip\u001b[0m\n",
            "Requirement already satisfied: tqdm in /Users/Gabriel/Library/Caches/pypoetry/virtualenvs/reviews-nlp-TO1qKy9D-py3.12/lib/python3.12/site-packages (4.66.5)\n",
            "\n",
            "\u001b[1m[\u001b[0m\u001b[34;49mnotice\u001b[0m\u001b[1;39;49m]\u001b[0m\u001b[39;49m A new release of pip is available: \u001b[0m\u001b[31;49m24.0\u001b[0m\u001b[39;49m -> \u001b[0m\u001b[32;49m24.2\u001b[0m\n",
            "\u001b[1m[\u001b[0m\u001b[34;49mnotice\u001b[0m\u001b[1;39;49m]\u001b[0m\u001b[39;49m To update, run: \u001b[0m\u001b[32;49mpip install --upgrade pip\u001b[0m\n",
            "Requirement already satisfied: torchvision in /Users/Gabriel/Library/Caches/pypoetry/virtualenvs/reviews-nlp-TO1qKy9D-py3.12/lib/python3.12/site-packages (0.19.1)\n",
            "Requirement already satisfied: numpy in /Users/Gabriel/Library/Caches/pypoetry/virtualenvs/reviews-nlp-TO1qKy9D-py3.12/lib/python3.12/site-packages (from torchvision) (2.1.2)\n",
            "Requirement already satisfied: torch==2.4.1 in /Users/Gabriel/Library/Caches/pypoetry/virtualenvs/reviews-nlp-TO1qKy9D-py3.12/lib/python3.12/site-packages (from torchvision) (2.4.1)\n",
            "Requirement already satisfied: pillow!=8.3.*,>=5.3.0 in /Users/Gabriel/Library/Caches/pypoetry/virtualenvs/reviews-nlp-TO1qKy9D-py3.12/lib/python3.12/site-packages (from torchvision) (10.4.0)\n",
            "Requirement already satisfied: filelock in /Users/Gabriel/Library/Caches/pypoetry/virtualenvs/reviews-nlp-TO1qKy9D-py3.12/lib/python3.12/site-packages (from torch==2.4.1->torchvision) (3.16.1)\n",
            "Requirement already satisfied: typing-extensions>=4.8.0 in /Users/Gabriel/Library/Caches/pypoetry/virtualenvs/reviews-nlp-TO1qKy9D-py3.12/lib/python3.12/site-packages (from torch==2.4.1->torchvision) (4.12.2)\n",
            "Requirement already satisfied: sympy in /Users/Gabriel/Library/Caches/pypoetry/virtualenvs/reviews-nlp-TO1qKy9D-py3.12/lib/python3.12/site-packages (from torch==2.4.1->torchvision) (1.13.3)\n",
            "Requirement already satisfied: networkx in /Users/Gabriel/Library/Caches/pypoetry/virtualenvs/reviews-nlp-TO1qKy9D-py3.12/lib/python3.12/site-packages (from torch==2.4.1->torchvision) (3.3)\n",
            "Requirement already satisfied: jinja2 in /Users/Gabriel/Library/Caches/pypoetry/virtualenvs/reviews-nlp-TO1qKy9D-py3.12/lib/python3.12/site-packages (from torch==2.4.1->torchvision) (3.1.4)\n",
            "Requirement already satisfied: fsspec in /Users/Gabriel/Library/Caches/pypoetry/virtualenvs/reviews-nlp-TO1qKy9D-py3.12/lib/python3.12/site-packages (from torch==2.4.1->torchvision) (2024.9.0)\n",
            "Requirement already satisfied: setuptools in /Users/Gabriel/Library/Caches/pypoetry/virtualenvs/reviews-nlp-TO1qKy9D-py3.12/lib/python3.12/site-packages (from torch==2.4.1->torchvision) (75.1.0)\n",
            "Requirement already satisfied: MarkupSafe>=2.0 in /Users/Gabriel/Library/Caches/pypoetry/virtualenvs/reviews-nlp-TO1qKy9D-py3.12/lib/python3.12/site-packages (from jinja2->torch==2.4.1->torchvision) (2.1.5)\n",
            "Requirement already satisfied: mpmath<1.4,>=1.1.0 in /Users/Gabriel/Library/Caches/pypoetry/virtualenvs/reviews-nlp-TO1qKy9D-py3.12/lib/python3.12/site-packages (from sympy->torch==2.4.1->torchvision) (1.3.0)\n",
            "\n",
            "\u001b[1m[\u001b[0m\u001b[34;49mnotice\u001b[0m\u001b[1;39;49m]\u001b[0m\u001b[39;49m A new release of pip is available: \u001b[0m\u001b[31;49m24.0\u001b[0m\u001b[39;49m -> \u001b[0m\u001b[32;49m24.2\u001b[0m\n",
            "\u001b[1m[\u001b[0m\u001b[34;49mnotice\u001b[0m\u001b[1;39;49m]\u001b[0m\u001b[39;49m To update, run: \u001b[0m\u001b[32;49mpip install --upgrade pip\u001b[0m\n",
            "Requirement already satisfied: scikit-learn in /Users/Gabriel/Library/Caches/pypoetry/virtualenvs/reviews-nlp-TO1qKy9D-py3.12/lib/python3.12/site-packages (1.5.2)\n",
            "Requirement already satisfied: numpy>=1.19.5 in /Users/Gabriel/Library/Caches/pypoetry/virtualenvs/reviews-nlp-TO1qKy9D-py3.12/lib/python3.12/site-packages (from scikit-learn) (2.1.2)\n",
            "Requirement already satisfied: scipy>=1.6.0 in /Users/Gabriel/Library/Caches/pypoetry/virtualenvs/reviews-nlp-TO1qKy9D-py3.12/lib/python3.12/site-packages (from scikit-learn) (1.14.1)\n",
            "Requirement already satisfied: joblib>=1.2.0 in /Users/Gabriel/Library/Caches/pypoetry/virtualenvs/reviews-nlp-TO1qKy9D-py3.12/lib/python3.12/site-packages (from scikit-learn) (1.4.2)\n",
            "Requirement already satisfied: threadpoolctl>=3.1.0 in /Users/Gabriel/Library/Caches/pypoetry/virtualenvs/reviews-nlp-TO1qKy9D-py3.12/lib/python3.12/site-packages (from scikit-learn) (3.5.0)\n",
            "\n",
            "\u001b[1m[\u001b[0m\u001b[34;49mnotice\u001b[0m\u001b[1;39;49m]\u001b[0m\u001b[39;49m A new release of pip is available: \u001b[0m\u001b[31;49m24.0\u001b[0m\u001b[39;49m -> \u001b[0m\u001b[32;49m24.2\u001b[0m\n",
            "\u001b[1m[\u001b[0m\u001b[34;49mnotice\u001b[0m\u001b[1;39;49m]\u001b[0m\u001b[39;49m To update, run: \u001b[0m\u001b[32;49mpip install --upgrade pip\u001b[0m\n"
          ]
        }
      ],
      "source": [
        "!pip install transformers\n",
        "!pip install flask\n",
        "!pip install flask_ngrok\n",
        "!pip install pyngrok\n",
        "!pip install pandas\n",
        "!pip install numpy\n",
        "!pip install matplotlib\n",
        "!pip install seaborn\n",
        "!pip install nltk\n",
        "!pip install re\n",
        "!pip install string\n",
        "!pip install collections\n",
        "!pip install sklearn\n",
        "!pip install torch\n",
        "!pip install tqdm\n",
        "!pip install torchvision\n",
        "!pip install scikit-learn"
      ]
    },
    {
      "cell_type": "markdown",
      "id": "3R2OOJtbT_X5",
      "metadata": {
        "id": "3R2OOJtbT_X5"
      },
      "source": [
        "## Import Libraries\n",
        "\n",
        "First, we'll import all the necessary libraries required for data manipulation, visualization, NLP processing, model training, and building the web interface."
      ]
    },
    {
      "cell_type": "code",
      "execution_count": 2,
      "id": "RwhTci4eT_X6",
      "metadata": {
        "colab": {
          "base_uri": "https://localhost:8080/"
        },
        "id": "RwhTci4eT_X6",
        "outputId": "dfdd63a2-42ab-42d3-a139-8322cab389ba"
      },
      "outputs": [
        {
          "name": "stderr",
          "output_type": "stream",
          "text": [
            "/Users/Gabriel/Library/Caches/pypoetry/virtualenvs/reviews-nlp-TO1qKy9D-py3.12/lib/python3.12/site-packages/tqdm/auto.py:21: TqdmWarning: IProgress not found. Please update jupyter and ipywidgets. See https://ipywidgets.readthedocs.io/en/stable/user_install.html\n",
            "  from .autonotebook import tqdm as notebook_tqdm\n",
            "[nltk_data] Downloading package punkt to /Users/Gabriel/nltk_data...\n",
            "[nltk_data]   Package punkt is already up-to-date!\n",
            "[nltk_data] Downloading package stopwords to\n",
            "[nltk_data]     /Users/Gabriel/nltk_data...\n",
            "[nltk_data]   Package stopwords is already up-to-date!\n"
          ]
        },
        {
          "data": {
            "text/plain": [
              "True"
            ]
          },
          "execution_count": 2,
          "metadata": {},
          "output_type": "execute_result"
        }
      ],
      "source": [
        "# Data manipulation and visualization\n",
        "import pandas as pd\n",
        "import numpy as np\n",
        "import matplotlib.pyplot as plt\n",
        "import seaborn as sns\n",
        "from tqdm import tqdm\n",
        "tqdm.pandas()\n",
        "\n",
        "# NLP libraries\n",
        "from nltk.corpus import stopwords\n",
        "from nltk.tokenize import word_tokenize\n",
        "import re\n",
        "import string\n",
        "from collections import Counter\n",
        "\n",
        "# Machine Learning libraries\n",
        "from sklearn.model_selection import train_test_split\n",
        "from sklearn.metrics import classification_report, confusion_matrix\n",
        "\n",
        "# Hugging Face Transformers for BERT\n",
        "from transformers import BertTokenizer, BertForSequenceClassification, Trainer, TrainingArguments, ProgressCallback\n",
        "# PyTorch\n",
        "import os\n",
        "os.environ['CUDA_LAUNCH_BLOCKING'] = \"1\"\n",
        "import torch\n",
        "\n",
        "# Flask for web app\n",
        "from flask import Flask, request, jsonify\n",
        "\n",
        "from flask_ngrok import run_with_ngrok\n",
        "\n",
        "# Suppress warnings for cleaner output\n",
        "import warnings\n",
        "warnings.filterwarnings('ignore')\n",
        "\n",
        "# Download NLTK data\n",
        "import nltk\n",
        "nltk.download('punkt')\n",
        "nltk.download('stopwords')"
      ]
    },
    {
      "cell_type": "markdown",
      "id": "8mIDh4YLT_X7",
      "metadata": {
        "id": "8mIDh4YLT_X7"
      },
      "source": [
        "---\n",
        "\n",
        "## Import Dataset\n",
        "\n",
        "Assuming you have the `review.csv` file uploaded to your Google Colab environment, we'll load the dataset using Pandas."
      ]
    },
    {
      "cell_type": "code",
      "execution_count": 4,
      "id": "RhrHerWyT_X7",
      "metadata": {
        "colab": {
          "base_uri": "https://localhost:8080/",
          "height": 640
        },
        "id": "RhrHerWyT_X7",
        "outputId": "c9a16194-6a6b-4293-e8a1-0e5e86039622"
      },
      "outputs": [
        {
          "name": "stdout",
          "output_type": "stream",
          "text": [
            "First 5 entries:\n"
          ]
        },
        {
          "data": {
            "text/html": [
              "<div>\n",
              "<style scoped>\n",
              "    .dataframe tbody tr th:only-of-type {\n",
              "        vertical-align: middle;\n",
              "    }\n",
              "\n",
              "    .dataframe tbody tr th {\n",
              "        vertical-align: top;\n",
              "    }\n",
              "\n",
              "    .dataframe thead th {\n",
              "        text-align: right;\n",
              "    }\n",
              "</style>\n",
              "<table border=\"1\" class=\"dataframe\">\n",
              "  <thead>\n",
              "    <tr style=\"text-align: right;\">\n",
              "      <th></th>\n",
              "      <th>restaurant_URL</th>\n",
              "      <th>Review</th>\n",
              "      <th>Rating</th>\n",
              "    </tr>\n",
              "  </thead>\n",
              "  <tbody>\n",
              "    <tr>\n",
              "      <th>0</th>\n",
              "      <td>https://www.tripadvisor.com/Restaurant_Review-...</td>\n",
              "      <td>We arrived about ten minutes late for our rese...</td>\n",
              "      <td>5.0</td>\n",
              "    </tr>\n",
              "    <tr>\n",
              "      <th>1</th>\n",
              "      <td>https://www.tripadvisor.com/Restaurant_Review-...</td>\n",
              "      <td>We got a reservation at Septime a couple of mo...</td>\n",
              "      <td>5.0</td>\n",
              "    </tr>\n",
              "    <tr>\n",
              "      <th>2</th>\n",
              "      <td>https://www.tripadvisor.com/Restaurant_Review-...</td>\n",
              "      <td>I’m really torn about this review. First, my w...</td>\n",
              "      <td>3.0</td>\n",
              "    </tr>\n",
              "    <tr>\n",
              "      <th>3</th>\n",
              "      <td>https://www.tripadvisor.com/Restaurant_Review-...</td>\n",
              "      <td>Really an underwhelming experience. The effort...</td>\n",
              "      <td>2.0</td>\n",
              "    </tr>\n",
              "    <tr>\n",
              "      <th>4</th>\n",
              "      <td>https://www.tripadvisor.com/Restaurant_Review-...</td>\n",
              "      <td>After reading earlier reviews and articles on ...</td>\n",
              "      <td>2.0</td>\n",
              "    </tr>\n",
              "  </tbody>\n",
              "</table>\n",
              "</div>"
            ],
            "text/plain": [
              "                                      restaurant_URL  \\\n",
              "0  https://www.tripadvisor.com/Restaurant_Review-...   \n",
              "1  https://www.tripadvisor.com/Restaurant_Review-...   \n",
              "2  https://www.tripadvisor.com/Restaurant_Review-...   \n",
              "3  https://www.tripadvisor.com/Restaurant_Review-...   \n",
              "4  https://www.tripadvisor.com/Restaurant_Review-...   \n",
              "\n",
              "                                              Review  Rating  \n",
              "0  We arrived about ten minutes late for our rese...     5.0  \n",
              "1  We got a reservation at Septime a couple of mo...     5.0  \n",
              "2  I’m really torn about this review. First, my w...     3.0  \n",
              "3  Really an underwhelming experience. The effort...     2.0  \n",
              "4  After reading earlier reviews and articles on ...     2.0  "
            ]
          },
          "metadata": {},
          "output_type": "display_data"
        },
        {
          "name": "stdout",
          "output_type": "stream",
          "text": [
            "\n",
            "Dataset Information:\n",
            "<class 'pandas.core.frame.DataFrame'>\n",
            "RangeIndex: 187618 entries, 0 to 187617\n",
            "Data columns (total 3 columns):\n",
            " #   Column          Non-Null Count   Dtype  \n",
            "---  ------          --------------   -----  \n",
            " 0   restaurant_URL  187618 non-null  object \n",
            " 1   Review          187618 non-null  object \n",
            " 2   Rating          187618 non-null  float64\n",
            "dtypes: float64(1), object(2)\n",
            "memory usage: 4.3+ MB\n",
            "None\n",
            "\n",
            "Missing Values:\n",
            "restaurant_URL    0\n",
            "Review            0\n",
            "Rating            0\n",
            "dtype: int64\n"
          ]
        }
      ],
      "source": [
        "# Load the dataset\n",
        "df = pd.read_csv('reviews.csv', delimiter=';')\n",
        "\n",
        "# Display the first few rows\n",
        "print(\"First 5 entries:\")\n",
        "display(df.head())\n",
        "\n",
        "# Dataset information\n",
        "print(\"\\nDataset Information:\")\n",
        "print(df.info())\n",
        "\n",
        "# Check for missing values\n",
        "print(\"\\nMissing Values:\")\n",
        "print(df.isnull().sum())"
      ]
    },
    {
      "cell_type": "markdown",
      "id": "7YsAGjqMT_X8",
      "metadata": {
        "id": "7YsAGjqMT_X8"
      },
      "source": [
        "---\n",
        "\n",
        "## Data Analysis and Cleaning\n",
        "\n",
        "### Exploratory Data Analysis (EDA)\n",
        "\n",
        "Let's explore the distribution of ratings and the general sentiment of reviews."
      ]
    },
    {
      "cell_type": "code",
      "execution_count": 5,
      "id": "XeurzmlQT_X8",
      "metadata": {
        "colab": {
          "base_uri": "https://localhost:8080/",
          "height": 538
        },
        "id": "XeurzmlQT_X8",
        "outputId": "ec58dbec-71e6-4f7d-a632-6ee5a9d2641c"
      },
      "outputs": [
        {
          "data": {
            "image/png": "[encoded data removed]",
            "text/plain": [
              "<Figure size 800x600 with 1 Axes>"
            ]
          },
          "metadata": {},
          "output_type": "display_data"
        },
        {
          "name": "stdout",
          "output_type": "stream",
          "text": [
            "Average Rating: 4.30\n"
          ]
        }
      ],
      "source": [
        "# Distribution of Ratings\n",
        "plt.figure(figsize=(8,6))\n",
        "sns.countplot(x='Rating', data=df)\n",
        "plt.title('Distribution of Ratings')\n",
        "plt.xlabel('Rating')\n",
        "plt.ylabel('Count')\n",
        "plt.show()\n",
        "\n",
        "# Average Rating\n",
        "average_rating = df['Rating'].mean()\n",
        "print(f\"Average Rating: {average_rating:.2f}\")"
      ]
    },
    {
      "cell_type": "code",
      "execution_count": 6,
      "id": "f12b6d64",
      "metadata": {
        "colab": {
          "base_uri": "https://localhost:8080/"
        },
        "id": "f12b6d64",
        "outputId": "6253c88d-d3f7-44df-d55a-d777ee44133c"
      },
      "outputs": [
        {
          "name": "stdout",
          "output_type": "stream",
          "text": [
            "Average review length: 419.58 characters\n",
            "Median review length: 307.0 characters\n",
            "Shortest review: 4 characters\n",
            "Longest review: 9041 characters\n"
          ]
        }
      ],
      "source": [
        "df['review_length'] = df['Review'].apply(len)\n",
        "\n",
        "# Review Length Distribution\n",
        "print(f\"Average review length: {df['review_length'].mean():.2f} characters\")\n",
        "print(f\"Median review length: {df['review_length'].median()} characters\")\n",
        "print(f\"Shortest review: {df['review_length'].min()} characters\")\n",
        "print(f\"Longest review: {df['review_length'].max()} characters\")"
      ]
    },
    {
      "cell_type": "code",
      "execution_count": 7,
      "id": "6511c738",
      "metadata": {
        "colab": {
          "base_uri": "https://localhost:8080/",
          "height": 485
        },
        "id": "6511c738",
        "outputId": "f6aec084-17be-45ee-8ea7-995ab1744aa4"
      },
      "outputs": [
        {
          "data": {
            "text/plain": [
              "<matplotlib.legend.Legend at 0x30081d160>"
            ]
          },
          "execution_count": 7,
          "metadata": {},
          "output_type": "execute_result"
        },
        {
          "data": {
            "image/png": "[encoded data removed]",
            "text/plain": [
              "<Figure size 1200x800 with 1 Axes>"
            ]
          },
          "metadata": {},
          "output_type": "display_data"
        }
      ],
      "source": [
        "# Review Length Distribution per Rating\n",
        "plt.figure(figsize=(12, 8))\n",
        "for rating in df['Rating'].unique():\n",
        "    sns.histplot(data=df[df['Rating'] == rating], x='review_length', bins=50, kde=True, label=f'Rating {rating}')\n",
        "plt.title('Distribution of Review Lengths per Rating')\n",
        "plt.xlabel('Review Length (characters)')\n",
        "plt.ylabel('Count')\n",
        "plt.legend()"
      ]
    },
    {
      "cell_type": "code",
      "execution_count": 8,
      "id": "1a5de8fa",
      "metadata": {
        "colab": {
          "base_uri": "https://localhost:8080/",
          "height": 494
        },
        "id": "1a5de8fa",
        "outputId": "0d63359c-5878-4043-fcef-b6729e84b226"
      },
      "outputs": [
        {
          "data": {
            "image/png": "[encoded data removed]",
            "text/plain": [
              "<Figure size 1200x800 with 1 Axes>"
            ]
          },
          "metadata": {},
          "output_type": "display_data"
        },
        {
          "name": "stdout",
          "output_type": "stream",
          "text": [
            "Overall correlation between Review Length and Rating: -0.21\n"
          ]
        }
      ],
      "source": [
        "# Correlation between Review Length and Rating for each Rating\n",
        "plt.figure(figsize=(12, 8))\n",
        "for rating in df['Rating'].unique():\n",
        "    subset = df[df['Rating'] == rating]\n",
        "    correlation = subset['review_length'].corr(subset['Rating'])\n",
        "    sns.scatterplot(data=subset, x='review_length', y='Rating',\n",
        "                    label=f'Rating {rating} (Corr: {correlation:.2f})', alpha=0.5)\n",
        "\n",
        "plt.title('Review Length vs Rating (per Rating)')\n",
        "plt.xlabel('Review Length (characters)')\n",
        "plt.ylabel('Rating')\n",
        "plt.legend()\n",
        "plt.show()\n",
        "\n",
        "# Print overall correlation\n",
        "overall_correlation = df['review_length'].corr(df['Rating'])\n",
        "print(f\"Overall correlation between Review Length and Rating: {overall_correlation:.2f}\")"
      ]
    },
    {
      "cell_type": "code",
      "execution_count": 9,
      "id": "c1e04ef0",
      "metadata": {
        "colab": {
          "base_uri": "https://localhost:8080/"
        },
        "id": "c1e04ef0",
        "outputId": "2ff526c0-8bc2-41b2-8aa8-ac880641da6a"
      },
      "outputs": [
        {
          "name": "stdout",
          "output_type": "stream",
          "text": [
            "Reviews with less than 10 characters:\n",
            "           Review  Rating\n",
            "37804        Cute     4.0\n",
            "42203     Great!!     4.0\n",
            "91806    Original     4.0\n",
            "100769  一個字::正 :]     5.0\n",
            "118492  Expensive     4.0\n",
            "128273   divinooo     5.0\n",
            "131213       good     4.0\n",
            "131260  Best ever     5.0\n",
            "185916     good !     4.0\n",
            "185917   superbe!     5.0\n",
            "185918  i love it     5.0\n",
            "185920  i love it     5.0\n",
            "\n",
            "Number of reviews with less than 10 characters: 12\n"
          ]
        }
      ],
      "source": [
        "# Show reviews with less than 10 characters\n",
        "short_reviews = df[df['Review'].str.len() < 10]\n",
        "print(\"Reviews with less than 10 characters:\")\n",
        "print(short_reviews[['Review', 'Rating']])\n",
        "print(f\"\\nNumber of reviews with less than 10 characters: {len(short_reviews)}\")\n"
      ]
    },
    {
      "cell_type": "markdown",
      "id": "GWrNTK1aT_X9",
      "metadata": {
        "id": "GWrNTK1aT_X9"
      },
      "source": [
        "### Data Cleaning\n",
        "\n",
        "We'll perform the following cleaning steps:\n",
        "- Remove duplicates\n",
        "- Handle missing values\n",
        "- Text preprocessing: lowercasing, removing punctuation, removing stopwords"
      ]
    },
    {
      "cell_type": "code",
      "execution_count": 10,
      "id": "XWxHT-CAT_X9",
      "metadata": {
        "colab": {
          "base_uri": "https://localhost:8080/"
        },
        "id": "XWxHT-CAT_X9",
        "outputId": "475b1350-ecb6-46f9-f19d-66847280aeba"
      },
      "outputs": [
        {
          "name": "stdout",
          "output_type": "stream",
          "text": [
            "Removed 11078 duplicate or missing entries.\n",
            "Dataset shape after cleaning: (176540, 4)\n"
          ]
        }
      ],
      "source": [
        "# Remove duplicates and handle missing values\n",
        "initial_shape = df.shape[0]\n",
        "df.drop_duplicates(inplace=True)\n",
        "df.dropna(subset=['Review', 'Rating'], inplace=True)\n",
        "final_shape = df.shape[0]\n",
        "\n",
        "print(f\"Removed {initial_shape - final_shape} duplicate or missing entries.\")\n",
        "print(f\"Dataset shape after cleaning: {df.shape}\")"
      ]
    },
    {
      "cell_type": "code",
      "execution_count": 12,
      "id": "27343063",
      "metadata": {
        "colab": {
          "base_uri": "https://localhost:8080/"
        },
        "id": "27343063",
        "outputId": "9e85e95d-5e9e-4bef-8590-eb10873e5d69"
      },
      "outputs": [
        {
          "name": "stderr",
          "output_type": "stream",
          "text": [
            "100%|██████████| 176540/176540 [00:16<00:00, 10862.11it/s]\n"
          ]
        }
      ],
      "source": [
        "# Text Preprocessing Functions\n",
        "def clean_text(text):\n",
        "    text = text.lower()\n",
        "    # Remove URLs, numbers, punctuation and special characters in one pass\n",
        "    text = re.sub(r'https?://\\S+|www\\.\\S+|\\[.*?\\]|<.*?>+|\\n|\\w*\\d\\w*|[^\\w\\s]', '', text)\n",
        "    return text\n",
        "\n",
        "def text_preprocessing(text):\n",
        "    cleaned_text = clean_text(text)\n",
        "    tokens = cleaned_text.split()\n",
        "    stop_words = set(stopwords.words('english'))\n",
        "    tokens_without_stopwords = [w for w in tokens if w not in stop_words]\n",
        "    return tokens_without_stopwords\n",
        "\n",
        "# Apply preprocessing with progress bar and vectorized operations\n",
        "df['Cleaned_Review'] = df['Review'].progress_apply(text_preprocessing)"
      ]
    },
    {
      "cell_type": "code",
      "execution_count": 13,
      "id": "ec147e29",
      "metadata": {
        "id": "ec147e29"
      },
      "outputs": [
        {
          "name": "stdout",
          "output_type": "stream",
          "text": [
            "\n",
            "Sample Cleaned Reviews:\n"
          ]
        },
        {
          "data": {
            "text/html": [
              "<div>\n",
              "<style scoped>\n",
              "    .dataframe tbody tr th:only-of-type {\n",
              "        vertical-align: middle;\n",
              "    }\n",
              "\n",
              "    .dataframe tbody tr th {\n",
              "        vertical-align: top;\n",
              "    }\n",
              "\n",
              "    .dataframe thead th {\n",
              "        text-align: right;\n",
              "    }\n",
              "</style>\n",
              "<table border=\"1\" class=\"dataframe\">\n",
              "  <thead>\n",
              "    <tr style=\"text-align: right;\">\n",
              "      <th></th>\n",
              "      <th>Review</th>\n",
              "      <th>Cleaned_Review</th>\n",
              "    </tr>\n",
              "  </thead>\n",
              "  <tbody>\n",
              "    <tr>\n",
              "      <th>0</th>\n",
              "      <td>We arrived about ten minutes late for our rese...</td>\n",
              "      <td>[arrived, ten, minutes, late, reservation, rec...</td>\n",
              "    </tr>\n",
              "    <tr>\n",
              "      <th>1</th>\n",
              "      <td>We got a reservation at Septime a couple of mo...</td>\n",
              "      <td>[got, reservation, septime, couple, months, co...</td>\n",
              "    </tr>\n",
              "    <tr>\n",
              "      <th>2</th>\n",
              "      <td>I’m really torn about this review. First, my w...</td>\n",
              "      <td>[im, really, torn, review, first, wife, stayed...</td>\n",
              "    </tr>\n",
              "    <tr>\n",
              "      <th>3</th>\n",
              "      <td>Really an underwhelming experience. The effort...</td>\n",
              "      <td>[really, underwhelming, experience, effort, go...</td>\n",
              "    </tr>\n",
              "    <tr>\n",
              "      <th>4</th>\n",
              "      <td>After reading earlier reviews and articles on ...</td>\n",
              "      <td>[reading, earlier, reviews, articles, restaura...</td>\n",
              "    </tr>\n",
              "  </tbody>\n",
              "</table>\n",
              "</div>"
            ],
            "text/plain": [
              "                                              Review  \\\n",
              "0  We arrived about ten minutes late for our rese...   \n",
              "1  We got a reservation at Septime a couple of mo...   \n",
              "2  I’m really torn about this review. First, my w...   \n",
              "3  Really an underwhelming experience. The effort...   \n",
              "4  After reading earlier reviews and articles on ...   \n",
              "\n",
              "                                      Cleaned_Review  \n",
              "0  [arrived, ten, minutes, late, reservation, rec...  \n",
              "1  [got, reservation, septime, couple, months, co...  \n",
              "2  [im, really, torn, review, first, wife, stayed...  \n",
              "3  [really, underwhelming, experience, effort, go...  \n",
              "4  [reading, earlier, reviews, articles, restaura...  "
            ]
          },
          "metadata": {},
          "output_type": "display_data"
        }
      ],
      "source": [
        "# Display sample cleaned reviews\n",
        "print(\"\\nSample Cleaned Reviews:\")\n",
        "display(df[['Review', 'Cleaned_Review']].head())"
      ]
    },
    {
      "cell_type": "code",
      "execution_count": 14,
      "id": "23dd0195",
      "metadata": {
        "id": "23dd0195"
      },
      "outputs": [
        {
          "name": "stdout",
          "output_type": "stream",
          "text": [
            "Top 20 most common words:\n",
            "food: 109358\n",
            "good: 91377\n",
            "restaurant: 82257\n",
            "service: 78281\n",
            "paris: 67032\n",
            "great: 61887\n",
            "place: 58943\n",
            "us: 45850\n",
            "wine: 40451\n",
            "menu: 39047\n",
            "staff: 38919\n",
            "french: 38482\n",
            "one: 37478\n",
            "excellent: 36230\n",
            "friendly: 35342\n",
            "nice: 34952\n",
            "delicious: 33997\n",
            "would: 33823\n",
            "time: 32627\n",
            "meal: 31534\n"
          ]
        },
        {
          "data": {
            "image/png": "[encoded data removed]",
            "text/plain": [
              "<Figure size 1200x600 with 1 Axes>"
            ]
          },
          "metadata": {},
          "output_type": "display_data"
        }
      ],
      "source": [
        "# Flatten the list of lists in 'Cleaned_Review' column\n",
        "all_words = [word for review in df['Cleaned_Review'] for word in review]\n",
        "\n",
        "# Count words\n",
        "word_counts = Counter(all_words)\n",
        "\n",
        "# Display top 20 most common words\n",
        "print(\"Top 20 most common words:\")\n",
        "for word, count in word_counts.most_common(20):\n",
        "    print(f\"{word}: {count}\")\n",
        "\n",
        "top_20_words = dict(word_counts.most_common(20))\n",
        "plt.figure(figsize=(12, 6))\n",
        "plt.bar(top_20_words.keys(), top_20_words.values())\n",
        "plt.title('Top 20 Most Common Words')\n",
        "plt.xlabel('Words')\n",
        "plt.ylabel('Frequency')\n",
        "plt.xticks(rotation=45, ha='right')\n",
        "plt.tight_layout()\n",
        "plt.show()\n"
      ]
    },
    {
      "cell_type": "code",
      "execution_count": 15,
      "id": "a41da4ad",
      "metadata": {
        "id": "a41da4ad"
      },
      "outputs": [
        {
          "name": "stdout",
          "output_type": "stream",
          "text": [
            "              Rating  review_length\n",
            "count  176540.000000  176540.000000\n",
            "mean        4.297757     421.171910\n",
            "std         1.112091     378.223661\n",
            "min         1.000000       4.000000\n",
            "25%         4.000000     180.000000\n",
            "50%         5.000000     308.000000\n",
            "75%         5.000000     527.000000\n",
            "max         5.000000    9041.000000\n",
            "<class 'pandas.core.frame.DataFrame'>\n",
            "Index: 176540 entries, 0 to 187617\n",
            "Data columns (total 5 columns):\n",
            " #   Column          Non-Null Count   Dtype  \n",
            "---  ------          --------------   -----  \n",
            " 0   restaurant_URL  176540 non-null  object \n",
            " 1   Review          176540 non-null  object \n",
            " 2   Rating          176540 non-null  float64\n",
            " 3   review_length   176540 non-null  int64  \n",
            " 4   Cleaned_Review  176540 non-null  object \n",
            "dtypes: float64(1), int64(1), object(3)\n",
            "memory usage: 8.1+ MB\n",
            "None\n"
          ]
        }
      ],
      "source": [
        "# Save the cleaned dataset\n",
        "df.to_csv('cleaned_reviews.csv', index=False, sep=';')\n",
        "print(df.describe())\n",
        "print(df.info())"
      ]
    },
    {
      "cell_type": "code",
      "execution_count": 18,
      "id": "92ade754",
      "metadata": {
        "id": "92ade754"
      },
      "outputs": [
        {
          "name": "stdout",
          "output_type": "stream",
          "text": [
            "              Rating  review_length\n",
            "count  176540.000000  176540.000000\n",
            "mean        4.297757     421.171910\n",
            "std         1.112091     378.223661\n",
            "min         1.000000       4.000000\n",
            "25%         4.000000     180.000000\n",
            "50%         5.000000     308.000000\n",
            "75%         5.000000     527.000000\n",
            "max         5.000000    9041.000000\n",
            "<class 'pandas.core.frame.DataFrame'>\n",
            "RangeIndex: 176540 entries, 0 to 176539\n",
            "Data columns (total 5 columns):\n",
            " #   Column          Non-Null Count   Dtype  \n",
            "---  ------          --------------   -----  \n",
            " 0   restaurant_URL  176540 non-null  object \n",
            " 1   Review          176540 non-null  object \n",
            " 2   Rating          176540 non-null  float64\n",
            " 3   review_length   176540 non-null  int64  \n",
            " 4   Cleaned_Review  176540 non-null  object \n",
            "dtypes: float64(1), int64(1), object(3)\n",
            "memory usage: 6.7+ MB\n",
            "None\n"
          ]
        }
      ],
      "source": [
        "# Load the cleaned dataset\n",
        "df = pd.read_csv('cleaned_reviews.csv', delimiter=';')\n",
        "print(df.describe())\n",
        "print(df.info())"
      ]
    },
    {
      "cell_type": "markdown",
      "id": "2Nf1Da-dT_X-",
      "metadata": {
        "id": "2Nf1Da-dT_X-"
      },
      "source": [
        "---\n",
        "\n",
        "## Model Training and Implementation\n",
        "\n",
        "We'll build two models:\n",
        "1. **Grading Model**: Predicts the rating (0-5) based on the review text.\n",
        "2. **Review Generation Model**: Generates a review based on a given rating and keywords."
      ]
    },
    {
      "cell_type": "markdown",
      "id": "Udpt4-8yT_X-",
      "metadata": {
        "id": "Udpt4-8yT_X-"
      },
      "source": [
        "### Grading Model\n",
        "\n",
        "We'll use BERT for sequence classification to predict the rating."
      ]
    },
    {
      "cell_type": "code",
      "execution_count": 19,
      "id": "rrfp4vY6T_X-",
      "metadata": {
        "id": "rrfp4vY6T_X-"
      },
      "outputs": [
        {
          "name": "stdout",
          "output_type": "stream",
          "text": [
            "Training samples: 141232\n",
            "Validation samples: 35308\n"
          ]
        }
      ],
      "source": [
        "# Define number of classes (ratings 0-5)\n",
        "df['Rating'] = df['Rating'].astype(np.float32)\n",
        "num_labels = df['Rating'].nunique()\n",
        "\n",
        "# Split the dataset\n",
        "X = df['Cleaned_Review'].tolist()\n",
        "y = df['Rating'].tolist()\n",
        "\n",
        "X_train, X_test, y_train, y_test = train_test_split(X, y, test_size=0.2, random_state=42, stratify=y)\n",
        "\n",
        "print(f\"Training samples: {len(X_train)}\")\n",
        "print(f\"Validation samples: {len(X_test)}\")"
      ]
    },
    {
      "cell_type": "markdown",
      "id": "iLBtAhaFT_X-",
      "metadata": {
        "id": "iLBtAhaFT_X-"
      },
      "source": [
        "#### Tokenization"
      ]
    },
    {
      "cell_type": "code",
      "execution_count": 20,
      "id": "PeJNV0xGT_X-",
      "metadata": {
        "id": "PeJNV0xGT_X-"
      },
      "outputs": [
        {
          "name": "stdout",
          "output_type": "stream",
          "text": [
            "Tokenizing training data...\n",
            "Tokenizing test data...\n"
          ]
        }
      ],
      "source": [
        "# Initialize the tokenizer\n",
        "tokenizer = BertTokenizer.from_pretrained('bert-base-uncased')\n",
        "\n",
        "def tokenize(texts, max_length=128):\n",
        "    return tokenizer(\n",
        "        texts,\n",
        "        padding=True,\n",
        "        truncation=True,\n",
        "        max_length=max_length,\n",
        "        return_tensors='pt'\n",
        "    )\n",
        "\n",
        "print(\"Tokenizing training data...\")\n",
        "train_encodings = tokenize(X_train)\n",
        "\n",
        "print(\"Tokenizing test data...\")\n",
        "test_encodings = tokenize(X_test)\n"
      ]
    },
    {
      "cell_type": "markdown",
      "id": "Ytv90W1vT_X-",
      "metadata": {
        "id": "Ytv90W1vT_X-"
      },
      "source": [
        "#### Create PyTorch Datasets"
      ]
    },
    {
      "cell_type": "code",
      "execution_count": 21,
      "id": "f-jRW_zBT_X-",
      "metadata": {
        "id": "f-jRW_zBT_X-"
      },
      "outputs": [],
      "source": [
        "class ReviewsDataset(torch.utils.data.Dataset):\n",
        "    def __init__(self, encodings, labels):\n",
        "        self.encodings = encodings\n",
        "        self.labels = labels\n",
        "\n",
        "    def __getitem__(self, idx):\n",
        "        item = {key: val[idx] for key, val in self.encodings.items()}\n",
        "        item['labels'] = torch.tensor(self.labels[idx], dtype=torch.long)\n",
        "        return item\n",
        "\n",
        "    def __len__(self):\n",
        "        return len(self.labels)\n",
        "\n",
        "train_dataset = ReviewsDataset(train_encodings, y_train)\n",
        "test_dataset = ReviewsDataset(test_encodings, y_test)"
      ]
    },
    {
      "cell_type": "code",
      "execution_count": 41,
      "id": "f658eea7",
      "metadata": {},
      "outputs": [
        {
          "data": {
            "text/plain": [
              "141232"
            ]
          },
          "execution_count": 41,
          "metadata": {},
          "output_type": "execute_result"
        }
      ],
      "source": [
        "len(train_dataset.__dict__.get('encodings').get('input_ids'))"
      ]
    },
    {
      "cell_type": "code",
      "execution_count": 22,
      "id": "03261b9e",
      "metadata": {
        "id": "03261b9e"
      },
      "outputs": [],
      "source": [
        "# Create DataLoaders\n",
        "train_loader = torch.utils.data.DataLoader(train_dataset, batch_size=16, shuffle=True)\n",
        "test_loader = torch.utils.data.DataLoader(test_dataset, batch_size=16, shuffle=False)"
      ]
    },
    {
      "cell_type": "markdown",
      "id": "j--3RQZjT_X-",
      "metadata": {
        "id": "j--3RQZjT_X-"
      },
      "source": [
        "#### Initialize BERT for Sequence Classification"
      ]
    },
    {
      "cell_type": "code",
      "execution_count": 23,
      "id": "ock5AFYnT_X_",
      "metadata": {
        "id": "ock5AFYnT_X_"
      },
      "outputs": [
        {
          "name": "stderr",
          "output_type": "stream",
          "text": [
            "Some weights of BertForSequenceClassification were not initialized from the model checkpoint at bert-base-uncased and are newly initialized: ['classifier.bias', 'classifier.weight']\n",
            "You should probably TRAIN this model on a down-stream task to be able to use it for predictions and inference.\n"
          ]
        },
        {
          "name": "stdout",
          "output_type": "stream",
          "text": [
            "Using MPS device\n"
          ]
        },
        {
          "data": {
            "text/plain": [
              "BertForSequenceClassification(\n",
              "  (bert): BertModel(\n",
              "    (embeddings): BertEmbeddings(\n",
              "      (word_embeddings): Embedding(30522, 768, padding_idx=0)\n",
              "      (position_embeddings): Embedding(512, 768)\n",
              "      (token_type_embeddings): Embedding(2, 768)\n",
              "      (LayerNorm): LayerNorm((768,), eps=1e-12, elementwise_affine=True)\n",
              "      (dropout): Dropout(p=0.1, inplace=False)\n",
              "    )\n",
              "    (encoder): BertEncoder(\n",
              "      (layer): ModuleList(\n",
              "        (0-11): 12 x BertLayer(\n",
              "          (attention): BertAttention(\n",
              "            (self): BertSdpaSelfAttention(\n",
              "              (query): Linear(in_features=768, out_features=768, bias=True)\n",
              "              (key): Linear(in_features=768, out_features=768, bias=True)\n",
              "              (value): Linear(in_features=768, out_features=768, bias=True)\n",
              "              (dropout): Dropout(p=0.1, inplace=False)\n",
              "            )\n",
              "            (output): BertSelfOutput(\n",
              "              (dense): Linear(in_features=768, out_features=768, bias=True)\n",
              "              (LayerNorm): LayerNorm((768,), eps=1e-12, elementwise_affine=True)\n",
              "              (dropout): Dropout(p=0.1, inplace=False)\n",
              "            )\n",
              "          )\n",
              "          (intermediate): BertIntermediate(\n",
              "            (dense): Linear(in_features=768, out_features=3072, bias=True)\n",
              "            (intermediate_act_fn): GELUActivation()\n",
              "          )\n",
              "          (output): BertOutput(\n",
              "            (dense): Linear(in_features=3072, out_features=768, bias=True)\n",
              "            (LayerNorm): LayerNorm((768,), eps=1e-12, elementwise_affine=True)\n",
              "            (dropout): Dropout(p=0.1, inplace=False)\n",
              "          )\n",
              "        )\n",
              "      )\n",
              "    )\n",
              "    (pooler): BertPooler(\n",
              "      (dense): Linear(in_features=768, out_features=768, bias=True)\n",
              "      (activation): Tanh()\n",
              "    )\n",
              "  )\n",
              "  (dropout): Dropout(p=0.1, inplace=False)\n",
              "  (classifier): Linear(in_features=768, out_features=5, bias=True)\n",
              ")"
            ]
          },
          "execution_count": 23,
          "metadata": {},
          "output_type": "execute_result"
        }
      ],
      "source": [
        "model = BertForSequenceClassification.from_pretrained(\n",
        "    'bert-base-uncased',\n",
        "    num_labels=num_labels,\n",
        "    output_attentions=False,\n",
        "    output_hidden_states=False\n",
        ")\n",
        "\n",
        "# Move model to GPU if available\n",
        "if torch.backends.mps.is_available():\n",
        "    device = torch.device(\"mps\")\n",
        "    print(\"Using MPS device\")\n",
        "elif torch.cuda.is_available():\n",
        "    device = torch.device(\"cuda\")\n",
        "    print(\"Using CUDA device\")\n",
        "else:\n",
        "    device = torch.device(\"cpu\")\n",
        "    print(\"Using CPU device\")\n",
        "model.to(device)"
      ]
    },
    {
      "cell_type": "code",
      "execution_count": null,
      "id": "9b564d72",
      "metadata": {
        "id": "9b564d72"
      },
      "outputs": [],
      "source": [
        "from transformers import AdamW, get_linear_schedule_with_warmup\n",
        "from tqdm.auto import tqdm\n",
        "import time\n",
        "import torch\n",
        "\n",
        "# Initialize the optimizer\n",
        "optimizer = AdamW(model.parameters(), lr=2e-5, correct_bias=False)\n",
        "\n",
        "# Define training parameters\n",
        "epochs = 3\n",
        "total_steps = len(train_loader) * epochs\n",
        "\n",
        "# Initialize the scheduler\n",
        "scheduler = get_linear_schedule_with_warmup(\n",
        "    optimizer,\n",
        "    num_warmup_steps=0,\n",
        "    num_training_steps=total_steps\n",
        ")\n",
        "\n",
        "# Set the model to training mode\n",
        "model.train()\n",
        "\n",
        "# Initialize a single tqdm progress bar for all epochs and batches\n",
        "progress_bar = tqdm(\n",
        "    range(epochs * len(train_loader)),\n",
        "    desc=\"Training\",\n",
        "    unit=\"batch\",\n",
        "    ascii=True  # Force ASCII characters if needed\n",
        ")\n",
        "\n",
        "for epoch in range(epochs):\n",
        "    epoch_loss = 0\n",
        "    start_time = time.time()\n",
        "    \n",
        "    for batch_idx, batch in enumerate(train_loader, 1):\n",
        "        optimizer.zero_grad()\n",
        "\n",
        "        # Move inputs to the device\n",
        "        input_ids = batch['input_ids'].to(device)\n",
        "        attention_mask = batch['attention_mask'].to(device)\n",
        "        labels = batch['labels'].to(device)\n",
        "\n",
        "        # Forward pass\n",
        "        outputs = model(\n",
        "            input_ids=input_ids,\n",
        "            attention_mask=attention_mask,\n",
        "            labels=labels\n",
        "        )\n",
        "\n",
        "        loss = outputs.loss\n",
        "        epoch_loss += loss.item()\n",
        "\n",
        "        # Backward pass and optimization\n",
        "        loss.backward()\n",
        "        torch.nn.utils.clip_grad_norm_(model.parameters(), max_norm=1.0)  # Gradient clipping\n",
        "        optimizer.step()\n",
        "        scheduler.step()\n",
        "\n",
        "        # Update the progress bar with current loss\n",
        "        progress_bar.set_postfix({'loss': f'{loss.item():.4f}'})\n",
        "        progress_bar.update(1)\n",
        "\n",
        "        # Optionally, log every 100 batches\n",
        "        if (batch_idx) % 100 == 0:\n",
        "            tqdm.write(f'Epoch {epoch + 1}/{epochs} | Batch {batch_idx}/{len(train_loader)} | Loss: {loss.item():.4f}')\n",
        "\n",
        "    # Calculate average loss for the epoch\n",
        "    avg_loss = epoch_loss / len(train_loader)\n",
        "    end_time = time.time()\n",
        "    epoch_time = end_time - start_time\n",
        "\n",
        "    # Log epoch summary\n",
        "    tqdm.write(f'Epoch {epoch + 1}/{epochs} completed in {epoch_time:.2f} seconds')\n",
        "    tqdm.write(f'Average training loss: {avg_loss:.4f}')\n",
        "\n",
        "print(\"Training complete!\")"
      ]
    },
    {
      "cell_type": "markdown",
      "id": "qU5diTOtT_X_",
      "metadata": {
        "id": "qU5diTOtT_X_"
      },
      "source": [
        "#### Training Arguments & Torch Trainer"
      ]
    },
    {
      "cell_type": "code",
      "execution_count": 49,
      "id": "e7006941",
      "metadata": {
        "id": "e7006941"
      },
      "outputs": [],
      "source": [
        "from transformers import EarlyStoppingCallback\n",
        "from sklearn.metrics import accuracy_score, precision_recall_fscore_support\n",
        "torch.set_default_dtype(torch.float32)"
      ]
    },
    {
      "cell_type": "code",
      "execution_count": 58,
      "id": "x9Ploev5T_X_",
      "metadata": {
        "id": "x9Ploev5T_X_"
      },
      "outputs": [],
      "source": [
        "# Update TrainingArguments to include evaluation strategy\n",
        "training_args = TrainingArguments(\n",
        "    output_dir='./results',\n",
        "    num_train_epochs=10,  # Set higher epochs; early stopping will handle stopping\n",
        "    per_device_train_batch_size=16,\n",
        "    per_device_eval_batch_size=16,\n",
        "    evaluation_strategy='epoch',\n",
        "    save_strategy='epoch',\n",
        "    logging_dir='./logs',\n",
        "    logging_steps=10,\n",
        "    save_total_limit=2,\n",
        "    load_best_model_at_end=True,\n",
        "    metric_for_best_model='accuracy',\n",
        "    greater_is_better=True,\n",
        "    fp16=torch.cuda.is_available(),\n",
        ")\n",
        "\n",
        "def compute_metrics(pred):\n",
        "    labels = pred.label_ids\n",
        "    preds = pred.predictions.argmax(-1)\n",
        "    acc = accuracy_score(labels, preds)\n",
        "    precision, recall, f1, _ = precision_recall_fscore_support(labels, preds, average='weighted')\n",
        "    return {\n",
        "        'accuracy': acc,\n",
        "        'precision': precision,\n",
        "        'recall': recall,\n",
        "        'f1': f1\n",
        "    }"
      ]
    },
    {
      "cell_type": "code",
      "execution_count": 59,
      "id": "d68a348d",
      "metadata": {
        "id": "d68a348d"
      },
      "outputs": [
        {
          "name": "stdout",
          "output_type": "stream",
          "text": [
            "Starting training with early stopping...\n"
          ]
        },
        {
          "name": "stderr",
          "output_type": "stream",
          "text": [
            "  0%|          | 10/88270 [00:14<29:09:58,  1.19s/it]\n",
            "\n",
            "\n",
            "\n",
            "                                                                              \n",
            "\n",
            "\n",
            "  0%|          | 10/88270 [00:14<29:09:58,  1.19s/it]"
          ]
        },
        {
          "name": "stdout",
          "output_type": "stream",
          "text": [
            "{'loss': 0.4049, 'grad_norm': 4.513328552246094, 'learning_rate': 4.999433556134587e-05, 'epoch': 0.0}\n"
          ]
        },
        {
          "name": "stderr",
          "output_type": "stream",
          "text": [
            "  0%|          | 20/88270 [00:26<28:11:03,  1.15s/it]\n",
            "\n",
            "\n",
            "\n",
            "                                                                                \n",
            "\n",
            "\n",
            "  0%|          | 20/88270 [00:26<28:11:03,  1.15s/it]"
          ]
        },
        {
          "name": "stdout",
          "output_type": "stream",
          "text": [
            "{'loss': 0.3519, 'grad_norm': 2.4810872077941895, 'learning_rate': 4.9988671122691745e-05, 'epoch': 0.0}\n"
          ]
        },
        {
          "name": "stderr",
          "output_type": "stream",
          "text": [
            "  0%|          | 30/88270 [00:37<28:19:24,  1.16s/it]\n",
            "\n",
            "\n",
            "\n",
            "                                                                                \n",
            "\n",
            "\n",
            "  0%|          | 30/88270 [00:37<28:19:24,  1.16s/it]"
          ]
        },
        {
          "name": "stdout",
          "output_type": "stream",
          "text": [
            "{'loss': 0.3383, 'grad_norm': 3.843733787536621, 'learning_rate': 4.998300668403761e-05, 'epoch': 0.0}\n"
          ]
        },
        {
          "name": "stderr",
          "output_type": "stream",
          "text": [
            "  0%|          | 40/88270 [00:49<28:04:24,  1.15s/it]\n",
            "\n",
            "\n",
            "\n",
            "                                                                                \n",
            "\n",
            "\n",
            "  0%|          | 40/88270 [00:49<28:04:24,  1.15s/it]"
          ]
        },
        {
          "name": "stdout",
          "output_type": "stream",
          "text": [
            "{'loss': 0.4499, 'grad_norm': 2.7511448860168457, 'learning_rate': 4.997734224538349e-05, 'epoch': 0.0}\n"
          ]
        },
        {
          "name": "stderr",
          "output_type": "stream",
          "text": [
            "  0%|          | 50/88270 [01:01<28:03:42,  1.15s/it]\n",
            "\n",
            "\n",
            "\n",
            "                                                                                \n",
            "\n",
            "\n",
            "  0%|          | 50/88270 [01:01<28:03:42,  1.15s/it]"
          ]
        },
        {
          "name": "stdout",
          "output_type": "stream",
          "text": [
            "{'loss': 0.2849, 'grad_norm': 2.8501996994018555, 'learning_rate': 4.9971677806729356e-05, 'epoch': 0.01}\n"
          ]
        },
        {
          "name": "stderr",
          "output_type": "stream",
          "text": [
            "  0%|          | 60/88270 [01:12<28:50:11,  1.18s/it]\n",
            "\n",
            "\n",
            "\n",
            "                                                                                \n",
            "\n",
            "\n",
            "  0%|          | 60/88270 [01:12<28:50:11,  1.18s/it]"
          ]
        },
        {
          "name": "stdout",
          "output_type": "stream",
          "text": [
            "{'loss': 0.3538, 'grad_norm': 3.2741401195526123, 'learning_rate': 4.9966013368075224e-05, 'epoch': 0.01}\n"
          ]
        },
        {
          "name": "stderr",
          "output_type": "stream",
          "text": [
            "  0%|          | 70/88270 [01:24<28:36:58,  1.17s/it]\n",
            "\n",
            "\n",
            "\n",
            "                                                                                \n",
            "\n",
            "\n",
            "  0%|          | 70/88270 [01:24<28:36:58,  1.17s/it]"
          ]
        },
        {
          "name": "stdout",
          "output_type": "stream",
          "text": [
            "{'loss': 0.3024, 'grad_norm': 4.949029445648193, 'learning_rate': 4.99603489294211e-05, 'epoch': 0.01}\n"
          ]
        },
        {
          "name": "stderr",
          "output_type": "stream",
          "text": [
            "  0%|          | 80/88270 [01:35<28:04:05,  1.15s/it]\n",
            "\n",
            "\n",
            "\n",
            "                                                                                \n",
            "\n",
            "\n",
            "  0%|          | 80/88270 [01:36<28:04:05,  1.15s/it]"
          ]
        },
        {
          "name": "stdout",
          "output_type": "stream",
          "text": [
            "{'loss': 0.3323, 'grad_norm': 1.8468499183654785, 'learning_rate': 4.995468449076697e-05, 'epoch': 0.01}\n"
          ]
        },
        {
          "name": "stderr",
          "output_type": "stream",
          "text": [
            "  0%|          | 90/88270 [01:47<27:59:51,  1.14s/it]\n",
            "\n",
            "\n",
            "\n",
            "                                                                                \n",
            "\n",
            "\n",
            "  0%|          | 90/88270 [01:47<27:59:51,  1.14s/it]"
          ]
        },
        {
          "name": "stdout",
          "output_type": "stream",
          "text": [
            "{'loss': 0.2924, 'grad_norm': 2.945129632949829, 'learning_rate': 4.9949020052112835e-05, 'epoch': 0.01}\n"
          ]
        },
        {
          "name": "stderr",
          "output_type": "stream",
          "text": [
            "  0%|          | 100/88270 [01:58<27:57:37,  1.14s/it]\n",
            "\n",
            "\n",
            "\n",
            "                                                                                \n",
            "\n",
            "\n",
            "  0%|          | 100/88270 [01:58<27:57:37,  1.14s/it]"
          ]
        },
        {
          "name": "stdout",
          "output_type": "stream",
          "text": [
            "{'loss': 0.3656, 'grad_norm': 2.5911660194396973, 'learning_rate': 4.994335561345871e-05, 'epoch': 0.01}\n"
          ]
        },
        {
          "name": "stderr",
          "output_type": "stream",
          "text": [
            "  0%|          | 110/88270 [02:10<28:59:18,  1.18s/it]\n",
            "\n",
            "\n",
            "\n",
            "                                                                                \n",
            "\n",
            "\n",
            "  0%|          | 110/88270 [02:10<28:59:18,  1.18s/it]"
          ]
        },
        {
          "name": "stdout",
          "output_type": "stream",
          "text": [
            "{'loss': 0.2714, 'grad_norm': 6.133207321166992, 'learning_rate': 4.993769117480458e-05, 'epoch': 0.01}\n"
          ]
        },
        {
          "name": "stderr",
          "output_type": "stream",
          "text": [
            "  0%|          | 120/88270 [02:27<43:09:03,  1.76s/it]\n",
            "\n",
            "\n",
            "\n",
            "                                                                                \n",
            "\n",
            "\n",
            "  0%|          | 120/88270 [02:28<43:09:03,  1.76s/it]"
          ]
        },
        {
          "name": "stdout",
          "output_type": "stream",
          "text": [
            "{'loss': 0.2387, 'grad_norm': 8.096701622009277, 'learning_rate': 4.993202673615045e-05, 'epoch': 0.01}\n"
          ]
        },
        {
          "name": "stderr",
          "output_type": "stream",
          "text": [
            "  0%|          | 130/88270 [02:44<41:24:02,  1.69s/it]\n",
            "\n",
            "\n",
            "\n",
            "                                                                                \n",
            "\n",
            "\n",
            "  0%|          | 130/88270 [02:44<41:24:02,  1.69s/it]"
          ]
        },
        {
          "name": "stdout",
          "output_type": "stream",
          "text": [
            "{'loss': 0.3033, 'grad_norm': 2.563068151473999, 'learning_rate': 4.992636229749632e-05, 'epoch': 0.01}\n"
          ]
        },
        {
          "name": "stderr",
          "output_type": "stream",
          "text": [
            "  0%|          | 140/88270 [03:03<44:43:33,  1.83s/it]\n",
            "\n",
            "\n",
            "\n",
            "                                                                                \n",
            "\n",
            "\n",
            "  0%|          | 140/88270 [03:03<44:43:33,  1.83s/it]"
          ]
        },
        {
          "name": "stdout",
          "output_type": "stream",
          "text": [
            "{'loss': 0.3745, 'grad_norm': 14.276996612548828, 'learning_rate': 4.992069785884219e-05, 'epoch': 0.02}\n"
          ]
        },
        {
          "name": "stderr",
          "output_type": "stream",
          "text": [
            "  0%|          | 150/88270 [03:20<40:41:40,  1.66s/it]\n",
            "\n",
            "\n",
            "\n",
            "                                                                                \n",
            "\n",
            "\n",
            "  0%|          | 150/88270 [03:20<40:41:40,  1.66s/it]"
          ]
        },
        {
          "name": "stdout",
          "output_type": "stream",
          "text": [
            "{'loss': 0.2897, 'grad_norm': 5.627524375915527, 'learning_rate': 4.9915033420188064e-05, 'epoch': 0.02}\n"
          ]
        },
        {
          "name": "stderr",
          "output_type": "stream",
          "text": [
            "  0%|          | 160/88270 [03:35<38:00:59,  1.55s/it]\n",
            "\n",
            "\n",
            "\n",
            "                                                                                \n",
            "\n",
            "\n",
            "  0%|          | 160/88270 [03:35<38:00:59,  1.55s/it]"
          ]
        },
        {
          "name": "stdout",
          "output_type": "stream",
          "text": [
            "{'loss': 0.3156, 'grad_norm': 3.219870090484619, 'learning_rate': 4.990936898153393e-05, 'epoch': 0.02}\n"
          ]
        },
        {
          "name": "stderr",
          "output_type": "stream",
          "text": [
            "  0%|          | 170/88270 [03:50<37:30:16,  1.53s/it]\n",
            "\n",
            "\n",
            "\n",
            "                                                                                \n",
            "\n",
            "\n",
            "  0%|          | 170/88270 [03:50<37:30:16,  1.53s/it]"
          ]
        },
        {
          "name": "stdout",
          "output_type": "stream",
          "text": [
            "{'loss': 0.3777, 'grad_norm': 10.489309310913086, 'learning_rate': 4.9903704542879807e-05, 'epoch': 0.02}\n"
          ]
        },
        {
          "name": "stderr",
          "output_type": "stream",
          "text": [
            "  0%|          | 180/88270 [04:05<36:27:59,  1.49s/it]\n",
            "\n",
            "\n",
            "\n",
            "                                                                                \n",
            "\n",
            "\n",
            "  0%|          | 180/88270 [04:05<36:27:59,  1.49s/it]"
          ]
        },
        {
          "name": "stdout",
          "output_type": "stream",
          "text": [
            "{'loss': 0.3691, 'grad_norm': 5.539361953735352, 'learning_rate': 4.9898040104225675e-05, 'epoch': 0.02}\n"
          ]
        },
        {
          "name": "stderr",
          "output_type": "stream",
          "text": [
            "  0%|          | 184/88270 [04:12<43:39:32,  1.78s/it]"
          ]
        },
        {
          "ename": "KeyboardInterrupt",
          "evalue": "",
          "output_type": "error",
          "traceback": [
            "\u001b[0;31m---------------------------------------------------------------------------\u001b[0m",
            "\u001b[0;31mKeyboardInterrupt\u001b[0m                         Traceback (most recent call last)",
            "Cell \u001b[0;32mIn[59], line 13\u001b[0m\n\u001b[1;32m     11\u001b[0m \u001b[38;5;66;03m# Start Training\u001b[39;00m\n\u001b[1;32m     12\u001b[0m \u001b[38;5;28mprint\u001b[39m(\u001b[38;5;124m\"\u001b[39m\u001b[38;5;124mStarting training with early stopping...\u001b[39m\u001b[38;5;124m\"\u001b[39m)\n\u001b[0;32m---> 13\u001b[0m \u001b[43mtrainer\u001b[49m\u001b[38;5;241;43m.\u001b[39;49m\u001b[43mtrain\u001b[49m\u001b[43m(\u001b[49m\u001b[43m)\u001b[49m\n\u001b[1;32m     14\u001b[0m \u001b[38;5;28mprint\u001b[39m(\u001b[38;5;124m\"\u001b[39m\u001b[38;5;124mTraining completed.\u001b[39m\u001b[38;5;124m\"\u001b[39m)\n",
            "File \u001b[0;32m~/Library/Caches/pypoetry/virtualenvs/reviews-nlp-TO1qKy9D-py3.12/lib/python3.12/site-packages/transformers/trainer.py:2052\u001b[0m, in \u001b[0;36mTrainer.train\u001b[0;34m(self, resume_from_checkpoint, trial, ignore_keys_for_eval, **kwargs)\u001b[0m\n\u001b[1;32m   2050\u001b[0m         hf_hub_utils\u001b[38;5;241m.\u001b[39menable_progress_bars()\n\u001b[1;32m   2051\u001b[0m \u001b[38;5;28;01melse\u001b[39;00m:\n\u001b[0;32m-> 2052\u001b[0m     \u001b[38;5;28;01mreturn\u001b[39;00m \u001b[43minner_training_loop\u001b[49m\u001b[43m(\u001b[49m\n\u001b[1;32m   2053\u001b[0m \u001b[43m        \u001b[49m\u001b[43margs\u001b[49m\u001b[38;5;241;43m=\u001b[39;49m\u001b[43margs\u001b[49m\u001b[43m,\u001b[49m\n\u001b[1;32m   2054\u001b[0m \u001b[43m        \u001b[49m\u001b[43mresume_from_checkpoint\u001b[49m\u001b[38;5;241;43m=\u001b[39;49m\u001b[43mresume_from_checkpoint\u001b[49m\u001b[43m,\u001b[49m\n\u001b[1;32m   2055\u001b[0m \u001b[43m        \u001b[49m\u001b[43mtrial\u001b[49m\u001b[38;5;241;43m=\u001b[39;49m\u001b[43mtrial\u001b[49m\u001b[43m,\u001b[49m\n\u001b[1;32m   2056\u001b[0m \u001b[43m        \u001b[49m\u001b[43mignore_keys_for_eval\u001b[49m\u001b[38;5;241;43m=\u001b[39;49m\u001b[43mignore_keys_for_eval\u001b[49m\u001b[43m,\u001b[49m\n\u001b[1;32m   2057\u001b[0m \u001b[43m    \u001b[49m\u001b[43m)\u001b[49m\n",
            "File \u001b[0;32m~/Library/Caches/pypoetry/virtualenvs/reviews-nlp-TO1qKy9D-py3.12/lib/python3.12/site-packages/transformers/trainer.py:2393\u001b[0m, in \u001b[0;36mTrainer._inner_training_loop\u001b[0;34m(self, batch_size, args, resume_from_checkpoint, trial, ignore_keys_for_eval)\u001b[0m\n\u001b[1;32m   2387\u001b[0m \u001b[38;5;28;01mwith\u001b[39;00m \u001b[38;5;28mself\u001b[39m\u001b[38;5;241m.\u001b[39maccelerator\u001b[38;5;241m.\u001b[39maccumulate(model):\n\u001b[1;32m   2388\u001b[0m     tr_loss_step \u001b[38;5;241m=\u001b[39m \u001b[38;5;28mself\u001b[39m\u001b[38;5;241m.\u001b[39mtraining_step(model, inputs)\n\u001b[1;32m   2390\u001b[0m \u001b[38;5;28;01mif\u001b[39;00m (\n\u001b[1;32m   2391\u001b[0m     args\u001b[38;5;241m.\u001b[39mlogging_nan_inf_filter\n\u001b[1;32m   2392\u001b[0m     \u001b[38;5;129;01mand\u001b[39;00m \u001b[38;5;129;01mnot\u001b[39;00m is_torch_xla_available()\n\u001b[0;32m-> 2393\u001b[0m     \u001b[38;5;129;01mand\u001b[39;00m (torch\u001b[38;5;241m.\u001b[39misnan(tr_loss_step) \u001b[38;5;129;01mor\u001b[39;00m \u001b[43mtorch\u001b[49m\u001b[38;5;241;43m.\u001b[39;49m\u001b[43misinf\u001b[49m\u001b[43m(\u001b[49m\u001b[43mtr_loss_step\u001b[49m\u001b[43m)\u001b[49m)\n\u001b[1;32m   2394\u001b[0m ):\n\u001b[1;32m   2395\u001b[0m     \u001b[38;5;66;03m# if loss is nan or inf simply add the average of previous logged losses\u001b[39;00m\n\u001b[1;32m   2396\u001b[0m     tr_loss \u001b[38;5;241m+\u001b[39m\u001b[38;5;241m=\u001b[39m tr_loss \u001b[38;5;241m/\u001b[39m (\u001b[38;5;241m1\u001b[39m \u001b[38;5;241m+\u001b[39m \u001b[38;5;28mself\u001b[39m\u001b[38;5;241m.\u001b[39mstate\u001b[38;5;241m.\u001b[39mglobal_step \u001b[38;5;241m-\u001b[39m \u001b[38;5;28mself\u001b[39m\u001b[38;5;241m.\u001b[39m_globalstep_last_logged)\n\u001b[1;32m   2397\u001b[0m \u001b[38;5;28;01melse\u001b[39;00m:\n",
            "\u001b[0;31mKeyboardInterrupt\u001b[0m: "
          ]
        }
      ],
      "source": [
        "# Initialize Trainer with EarlyStoppingCallback\n",
        "trainer = Trainer(\n",
        "    model=model,\n",
        "    args=training_args,\n",
        "    train_dataset=train_dataset,\n",
        "    eval_dataset=test_dataset,\n",
        "    compute_metrics=compute_metrics,\n",
        "    callbacks=[EarlyStoppingCallback(early_stopping_patience=2)]  # Stop if no improvement for 2 evaluations\n",
        ")\n",
        "\n",
        "# Start Training\n",
        "print(\"Starting training with early stopping...\")\n",
        "trainer.train()\n",
        "print(\"Training completed.\")\n"
      ]
    },
    {
      "cell_type": "markdown",
      "id": "1iJR0NTiT_X_",
      "metadata": {
        "id": "1iJR0NTiT_X_"
      },
      "source": [
        "#### Evaluation"
      ]
    },
    {
      "cell_type": "code",
      "execution_count": null,
      "id": "0VVNjOVfT_X_",
      "metadata": {
        "id": "0VVNjOVfT_X_"
      },
      "outputs": [],
      "source": [
        "# Evaluate the model\n",
        "eval_result = trainer.evaluate()\n",
        "print(f\"Validation Loss: {eval_result['eval_loss']}\")"
      ]
    },
    {
      "cell_type": "code",
      "execution_count": null,
      "id": "501eacd8",
      "metadata": {
        "id": "501eacd8"
      },
      "outputs": [],
      "source": [
        "# Extract training loss from trainer's state\n",
        "train_loss = trainer.state.log_history\n",
        "\n",
        "# Extract epoch and loss values\n",
        "epochs = [log['epoch'] for log in train_loss if 'loss' in log]\n",
        "losses = [log['loss'] for log in train_loss if 'loss' in log]\n",
        "\n",
        "# Create the plot\n",
        "plt.figure(figsize=(10, 6))\n",
        "plt.plot(epochs, losses, marker='o')\n",
        "plt.title('Training Loss over Epochs')\n",
        "plt.xlabel('Epoch')\n",
        "plt.ylabel('Loss')\n",
        "plt.grid(True)\n",
        "plt.show()\n",
        "\n",
        "# Print final loss\n",
        "print(f\"Final training loss: {losses[-1]:.4f}\")\n"
      ]
    },
    {
      "cell_type": "code",
      "execution_count": null,
      "id": "d94ad2c3",
      "metadata": {},
      "outputs": [],
      "source": [
        "# Save the trained model and tokenizer\n",
        "model.save_pretrained(\"review_grader\")\n",
        "tokenizer.save_pretrained(\"review_grader\")\n",
        "print(\"Model saved to 'review_grader' directory.\")"
      ]
    },
    {
      "cell_type": "code",
      "execution_count": null,
      "id": "35d52923",
      "metadata": {},
      "outputs": [],
      "source": [
        "# Load the saved model and tokenizer for inference\n",
        "\n",
        "loaded_tokenizer = BertTokenizer.from_pretrained(\"graded_model\")\n",
        "loaded_model = BertForSequenceClassification.from_pretrained(\"graded_model\")\n",
        "loaded_model.to(device)\n",
        "print(\"Model and tokenizer loaded successfully for inference.\")"
      ]
    },
    {
      "cell_type": "markdown",
      "id": "jz_ccYlmT_YA",
      "metadata": {
        "id": "jz_ccYlmT_YA"
      },
      "source": [
        "### Review Generation Model\n",
        "\n",
        "For generating reviews based on a given grade and keywords, we'll use BERT's conditional generation capabilities. However, BERT is primarily for understanding tasks. For generation, models like GPT-2 are more suitable. Here, we'll use GPT-2."
      ]
    },
    {
      "cell_type": "code",
      "execution_count": null,
      "id": "Q0-N9LHoT_YA",
      "metadata": {
        "id": "Q0-N9LHoT_YA"
      },
      "outputs": [],
      "source": [
        "from transformers import GPT2LMHeadModel, GPT2Tokenizer\n",
        "\n",
        "# Initialize GPT-2 tokenizer and model\n",
        "gpt2_tokenizer = GPT2Tokenizer.from_pretrained('gpt2')\n",
        "gpt2_model = GPT2LMHeadModel.from_pretrained('gpt2')\n",
        "\n",
        "# Fine-tuning GPT-2 is resource-intensive and may not be feasible in Colab.\n",
        "# Instead, we'll use prompt engineering for demonstration purposes."
      ]
    },
    {
      "cell_type": "markdown",
      "id": "ZiWuky3hT_YA",
      "metadata": {
        "id": "ZiWuky3hT_YA"
      },
      "source": [
        "---\n",
        "\n",
        "## Building the Goal Functions"
      ]
    },
    {
      "cell_type": "markdown",
      "id": "Pe0p-1t0T_YF",
      "metadata": {
        "id": "Pe0p-1t0T_YF"
      },
      "source": [
        "### Function to Grade a Review\n",
        "\n",
        "This function takes a review string as input and returns a predicted rating between 0 and 5."
      ]
    },
    {
      "cell_type": "code",
      "execution_count": null,
      "id": "qIegwoMCT_YF",
      "metadata": {
        "id": "qIegwoMCT_YF"
      },
      "outputs": [],
      "source": [
        "def grade(review: str) -> float:\n",
        "    # Preprocess the review\n",
        "    cleaned_review = preprocess_text(review)\n",
        "    # Tokenize\n",
        "    encoding = tokenizer(cleaned_review, truncation=True, padding=True, max_length=128, return_tensors='pt')\n",
        "    # Get model predictions\n",
        "    with torch.no_grad():\n",
        "        outputs = model(**encoding)\n",
        "    logits = outputs.logits\n",
        "    predicted_class = torch.argmax(logits, dim=1).item()\n",
        "    # Convert back to original rating scale\n",
        "    return predicted_class + 1"
      ]
    },
    {
      "cell_type": "markdown",
      "id": "zdxcNT3BT_YF",
      "metadata": {
        "id": "zdxcNT3BT_YF"
      },
      "source": [
        "**Usage Example:**"
      ]
    },
    {
      "cell_type": "code",
      "execution_count": null,
      "id": "jguuVrfXT_YF",
      "metadata": {
        "id": "jguuVrfXT_YF"
      },
      "outputs": [],
      "source": [
        "sample_review = \"The food was amazing and the staff was very friendly!\"\n",
        "predicted_rating = grade(sample_review)\n",
        "print(f\"Predicted Rating: {predicted_rating}\")"
      ]
    },
    {
      "cell_type": "markdown",
      "id": "be8xLWW-T_YF",
      "metadata": {
        "id": "be8xLWW-T_YF"
      },
      "source": [
        "### Function to Generate a Review\n",
        "\n",
        "This function generates a review based on a given grade and a list of keywords. We'll use GPT-2 with prompt engineering."
      ]
    },
    {
      "cell_type": "code",
      "execution_count": null,
      "id": "AuIAI8_wT_YG",
      "metadata": {
        "id": "AuIAI8_wT_YG"
      },
      "outputs": [],
      "source": [
        "def gen_review(grade: float, keywords: list) -> str:\n",
        "    # Create a prompt based on grade and keywords\n",
        "    keywords_str = ', '.join(keywords)\n",
        "    prompt = f\"Generate a restaurant review with a rating of {grade} stars. Keywords: {keywords_str}. Review:\"\n",
        "\n",
        "    # Encode the prompt\n",
        "    input_ids = gpt2_tokenizer.encode(prompt, return_tensors='pt')\n",
        "\n",
        "    # Generate text\n",
        "    output = gpt2_model.generate(\n",
        "        input_ids,\n",
        "        max_length=150,\n",
        "        num_return_sequences=1,\n",
        "        no_repeat_ngram_size=2,\n",
        "        early_stopping=True\n",
        "    )\n",
        "\n",
        "    # Decode the generated text\n",
        "    generated_review = gpt2_tokenizer.decode(output[0], skip_special_tokens=True)\n",
        "\n",
        "    # Extract the review part\n",
        "    review = generated_review.split(\"Review:\")[-1].strip()\n",
        "\n",
        "    return review"
      ]
    },
    {
      "cell_type": "markdown",
      "id": "tYNbANCYT_YG",
      "metadata": {
        "id": "tYNbANCYT_YG"
      },
      "source": [
        "**Usage Example:**"
      ]
    },
    {
      "cell_type": "code",
      "execution_count": null,
      "id": "HkJv8BY3T_YG",
      "metadata": {
        "id": "HkJv8BY3T_YG"
      },
      "outputs": [],
      "source": [
        "desired_grade = 5\n",
        "keywords = [\"excellent service\", \"delicious food\", \"cozy atmosphere\"]\n",
        "generated_review = gen_review(desired_grade, keywords)\n",
        "print(f\"Generated Review:\\n{generated_review}\")"
      ]
    },
    {
      "cell_type": "markdown",
      "id": "v-ZRQk2vT_YG",
      "metadata": {
        "id": "v-ZRQk2vT_YG"
      },
      "source": [
        "---\n",
        "\n",
        "## Optional: Building a GUI with Flask and Ngrok\n",
        "\n",
        "We'll create a simple web interface where users can input a review to get a grade and generate a review based on a grade and keywords."
      ]
    },
    {
      "cell_type": "code",
      "execution_count": null,
      "id": "LIgB54_HT_YG",
      "metadata": {
        "id": "LIgB54_HT_YG"
      },
      "outputs": [],
      "source": [
        "# Initialize Flask app\n",
        "app = Flask(__name__)\n",
        "run_with_ngrok(app)  # Start ngrok when app is run\n",
        "\n",
        "@app.route('/')\n",
        "def home():\n",
        "    return \"\"\"\n",
        "    <h1>Hotel and Restaurant Review Analyzer and Generator</h1>\n",
        "    <h2>Grade a Review</h2>\n",
        "    <form action=\"/grade\" method=\"post\">\n",
        "        <textarea name=\"review\" rows=\"4\" cols=\"50\" placeholder=\"Enter your review here...\"></textarea><br>\n",
        "        <input type=\"submit\" value=\"Grade Review\">\n",
        "    </form>\n",
        "    <h2>Generate a Review</h2>\n",
        "    <form action=\"/generate\" method=\"post\">\n",
        "        <input type=\"number\" name=\"grade\" step=\"0.1\" min=\"0\" max=\"5\" placeholder=\"Enter desired grade (0-5)\"><br>\n",
        "        <input type=\"text\" name=\"keywords\" placeholder=\"Enter keywords, separated by commas\"><br>\n",
        "        <input type=\"submit\" value=\"Generate Review\">\n",
        "    </form>\n",
        "    \"\"\"\n",
        "\n",
        "@app.route('/grade', methods=['POST'])\n",
        "def grade_review():\n",
        "    review = request.form['review']\n",
        "    predicted_rating = grade(review)\n",
        "    return f\"<h3>Predicted Rating: {predicted_rating}</h3><a href='/'>Go Back</a>\"\n",
        "\n",
        "@app.route('/generate', methods=['POST'])\n",
        "def generate_review():\n",
        "    grade_input = request.form['grade']\n",
        "    keywords_input = request.form['keywords']\n",
        "    try:\n",
        "        grade_float = float(grade_input)\n",
        "        if not (0 <= grade_float <= 5):\n",
        "            raise ValueError\n",
        "    except ValueError:\n",
        "        return \"<h3>Invalid grade input. Please enter a number between 0 and 5.</h3><a href='/'>Go Back</a>\"\n",
        "\n",
        "    keywords_list = [kw.strip() for kw in keywords_input.split(',') if kw.strip()]\n",
        "    if not keywords_list:\n",
        "        return \"<h3>Please provide at least one keyword.</h3><a href='/'>Go Back</a>\"\n",
        "\n",
        "    generated = gen_review(grade_float, keywords_list)\n",
        "    return f\"<h3>Generated Review:</h3><p>{generated}</p><a href='/'>Go Back</a>\"\n",
        "\n",
        "if __name__ == '__main__':\n",
        "    app.run()"
      ]
    },
    {
      "cell_type": "markdown",
      "id": "lIykqjG8T_YG",
      "metadata": {
        "id": "lIykqjG8T_YG"
      },
      "source": [
        "**Instructions to Run the Flask App:**\n",
        "1. Ensure all the above cells are executed in your Colab notebook.\n",
        "2. Run the Flask app cell. It will provide a public URL via Ngrok.\n",
        "3. Click on the provided Ngrok URL to access the web interface."
      ]
    },
    {
      "cell_type": "markdown",
      "id": "w__TrQwoT_YG",
      "metadata": {
        "id": "w__TrQwoT_YG"
      },
      "source": [
        "---\n",
        "\n",
        "# Conclusion\n",
        "\n",
        "This notebook provides a complete pipeline for analyzing and generating hotel and restaurant reviews using NLP techniques. The grading model leverages BERT for accurate rating predictions, while the review generation leverages GPT-2 for creating coherent and contextually relevant reviews based on user inputs. The optional Flask web interface allows for easy interaction with the models.\n",
        "\n",
        "**Note:**\n",
        "- Fine-tuning large models like BERT and GPT-2 can be resource-intensive. Ensure that your environment (e.g., Google Colab) has sufficient resources, and consider using GPU acceleration.\n",
        "- For production-level applications, additional considerations like model optimization, security, and scalability should be addressed.\n",
        "\n",
        "Feel free to customize and enhance the models and interfaces based on your specific project requirements!"
      ]
    }
  ],
  "metadata": {
    "accelerator": "GPU",
    "colab": {
      "gpuType": "T4",
      "provenance": []
    },
    "kernelspec": {
      "display_name": "reviews-nlp-TO1qKy9D-py3.12",
      "language": "python",
      "name": "python3"
    },
    "language_info": {
      "codemirror_mode": {
        "name": "ipython",
        "version": 3
      },
      "file_extension": ".py",
      "mimetype": "text/x-python",
      "name": "python",
      "nbconvert_exporter": "python",
      "pygments_lexer": "ipython3",
      "version": "3.12.6"
    }
  },
  "nbformat": 4,
  "nbformat_minor": 5
}
